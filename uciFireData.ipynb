{
 "cells": [
  {
   "cell_type": "code",
   "execution_count": 33,
   "source": [
    "import pandas as pd\n",
    "import numpy as np \n",
    "import matplotlib.pyplot as plt\n",
    "\n"
   ],
   "outputs": [],
   "metadata": {}
  },
  {
   "cell_type": "code",
   "execution_count": 34,
   "source": [
    "df =pd.read_csv(r'data/forestfires.csv')\n",
    "df =df.drop(columns=[\"rain\"])"
   ],
   "outputs": [],
   "metadata": {}
  },
  {
   "cell_type": "code",
   "execution_count": 35,
   "source": [
    "months =[\"jan\",\"feb\",\"mar\",\"apr\",\"may\",\"jun\",\"jul\",\"aug\",\"sep\",\"oct\",\"nov\",\"dec\"]\n",
    "weekdays=[\"mon\",\"tue\",\"wed\",\"thu\",\"fri\",\"sat\",\"sun\"]\n",
    "for i in range(len(df[\"month\"])):\n",
    "    for j in range(len(months)):\n",
    "        if df.iloc[i][\"month\"] ==months[j]:\n",
    "            df.at[i,\"month\"]=j\n",
    "            break\n",
    "for i in range(len(df[\"day\"])):\n",
    "    for j in range(len(weekdays)):\n",
    "        if df.iloc[i][\"day\"] ==weekdays[j]:\n",
    "            df.at[i,\"day\"]=j\n",
    "            break\n",
    "fire_occured =[]\n",
    "for i in range(len(df)):\n",
    "    if df.iloc[i].area >0:\n",
    "        fire_occured.append(1)\n",
    "    else:\n",
    "        fire_occured.append(0)\n",
    "df[\"fire_occured\"] =fire_occured  \n"
   ],
   "outputs": [],
   "metadata": {}
  },
  {
   "cell_type": "code",
   "execution_count": 36,
   "source": [
    "\n",
    "area=np.array(df.area)"
   ],
   "outputs": [],
   "metadata": {}
  },
  {
   "cell_type": "code",
   "execution_count": 37,
   "source": [
    "from sklearn.model_selection import train_test_split\n",
    "from sklearn import linear_model\n",
    "from sklearn.metrics import mean_squared_error, r2_score, accuracy_score,mean_squared_error,mean_absolute_error\n",
    "from sklearn.preprocessing import StandardScaler\n",
    "from sklearn.feature_selection import RFE, SelectFromModel"
   ],
   "outputs": [],
   "metadata": {}
  },
  {
   "cell_type": "code",
   "execution_count": 38,
   "source": [
    "vars =df.drop(columns=[\"area\",\"fire_occured\"])\n",
    "scaler =StandardScaler().fit(vars)\n",
    "scaled_vars=scaler.transform(vars)\n"
   ],
   "outputs": [],
   "metadata": {}
  },
  {
   "cell_type": "markdown",
   "source": [
    "## Trying out different feature selection methods"
   ],
   "metadata": {}
  },
  {
   "cell_type": "code",
   "execution_count": 39,
   "source": [
    "#lasso model \n",
    "lr_selector =SelectFromModel(linear_model.LogisticRegression(),max_features=4)\n",
    "lr_selector.fit(vars,df.fire_occured)\n",
    "lr_support=lr_selector.get_support()\n",
    "lr_feature = vars.loc[:,lr_support].columns.tolist()\n",
    "print(str(lr_feature), 'selected features')"
   ],
   "outputs": [
    {
     "output_type": "stream",
     "name": "stdout",
     "text": [
      "['X', 'Y', 'month', 'wind'] selected features\n"
     ]
    },
    {
     "output_type": "stream",
     "name": "stderr",
     "text": [
      "/home/arnav/.local/lib/python3.8/site-packages/sklearn/linear_model/_logistic.py:763: ConvergenceWarning: lbfgs failed to converge (status=1):\n",
      "STOP: TOTAL NO. of ITERATIONS REACHED LIMIT.\n",
      "\n",
      "Increase the number of iterations (max_iter) or scale the data as shown in:\n",
      "    https://scikit-learn.org/stable/modules/preprocessing.html\n",
      "Please also refer to the documentation for alternative solver options:\n",
      "    https://scikit-learn.org/stable/modules/linear_model.html#logistic-regression\n",
      "  n_iter_i = _check_optimize_result(\n"
     ]
    }
   ],
   "metadata": {}
  },
  {
   "cell_type": "code",
   "execution_count": 40,
   "source": [
    "#regression feature elimination \n",
    "rfe_estimator =RFE(estimator=linear_model.LogisticRegression(),n_features_to_select=5,step=10,verbose=5)\n",
    "rfe_estimator.fit(vars,df.fire_occured)\n",
    "rfe_support=rfe_estimator.get_support()\n",
    "rfe_feature = vars.loc[:,rfe_support].columns.tolist()\n",
    "print(str(rfe_feature), 'selected features')\n",
    "\n"
   ],
   "outputs": [
    {
     "output_type": "stream",
     "name": "stdout",
     "text": [
      "Fitting estimator with 11 features.\n",
      "['X', 'Y', 'month', 'day', 'wind'] selected features\n"
     ]
    },
    {
     "output_type": "stream",
     "name": "stderr",
     "text": [
      "/home/arnav/.local/lib/python3.8/site-packages/sklearn/linear_model/_logistic.py:763: ConvergenceWarning: lbfgs failed to converge (status=1):\n",
      "STOP: TOTAL NO. of ITERATIONS REACHED LIMIT.\n",
      "\n",
      "Increase the number of iterations (max_iter) or scale the data as shown in:\n",
      "    https://scikit-learn.org/stable/modules/preprocessing.html\n",
      "Please also refer to the documentation for alternative solver options:\n",
      "    https://scikit-learn.org/stable/modules/linear_model.html#logistic-regression\n",
      "  n_iter_i = _check_optimize_result(\n"
     ]
    }
   ],
   "metadata": {}
  },
  {
   "cell_type": "code",
   "execution_count": 41,
   "source": [
    "size =98\n",
    "state =45\n",
    "train_vars,test_vars,train_results,test_results =train_test_split(vars.get(rfe_feature),np.array(df.fire_occured),test_size=1-size/100,random_state=state) "
   ],
   "outputs": [],
   "metadata": {}
  },
  {
   "cell_type": "code",
   "execution_count": 42,
   "source": [
    "reg_line =linear_model.LinearRegression()\n",
    "reg_line.fit(train_vars,train_results)\n",
    "print(f'Coeffecients of the linear model{reg_line.coef_}')\n",
    "\n",
    "predictions =reg_line.predict(test_vars)"
   ],
   "outputs": [
    {
     "output_type": "stream",
     "name": "stdout",
     "text": [
      "Coeffecients of the linear model[ 0.01110259  0.01461167  0.03171861 -0.0091926   0.02278039]\n"
     ]
    }
   ],
   "metadata": {}
  },
  {
   "cell_type": "code",
   "execution_count": 43,
   "source": [
    "#predictions = np.exp(predictions)-1\n",
    "tft=[y for y in test_results]\n",
    "for i in range(len(predictions)):\n",
    "    if predictions[i] > .5:\n",
    "        predictions[i]=1\n",
    "    else: predictions[i]=0\n",
    "#tft=np.exp(np.array(tft))-1\n"
   ],
   "outputs": [],
   "metadata": {}
  },
  {
   "cell_type": "code",
   "execution_count": 44,
   "source": [
    "print(f'MSE: {mean_squared_error(tft,predictions)}')\n",
    "print(f'R2: {r2_score(tft,predictions)}')\n",
    "print(f'MAE: {mean_absolute_error(tft,predictions)}')\n",
    "print(f'AccuracyScore{accuracy_score(tft,predictions)}')\n"
   ],
   "outputs": [
    {
     "output_type": "stream",
     "name": "stdout",
     "text": [
      "MSE: 0.5454545454545454\n",
      "R2: -1.3571428571428572\n",
      "MAE: 0.5454545454545454\n",
      "AccuracyScore0.45454545454545453\n"
     ]
    }
   ],
   "metadata": {}
  },
  {
   "cell_type": "code",
   "execution_count": 45,
   "source": [
    "column=\"wind\"\n",
    "plt.clf()\n",
    "plt.scatter(test_vars[column],test_results,s=120)\n",
    "plt.scatter(test_vars[column], predictions, c=\"red\")\n",
    "plt.show()"
   ],
   "outputs": [
    {
     "output_type": "display_data",
     "data": {
      "image/png": "[encoded data removed]",
      "text/plain": [
       "<Figure size 432x288 with 1 Axes>"
      ]
     },
     "metadata": {
      "needs_background": "light"
     }
    }
   ],
   "metadata": {}
  },
  {
   "cell_type": "code",
   "execution_count": 46,
   "source": [
    "import seaborn as sn\n",
    "import  matplotlib.pyplot as plt\n",
    "from sklearn.linear_model import LogisticRegression"
   ],
   "outputs": [],
   "metadata": {}
  },
  {
   "cell_type": "code",
   "execution_count": 47,
   "source": [
    "#change purpose to make this aclassifier model that is now trying to predict wether there is a fire\n",
    "#sn.pairplot(df,height=1)\n",
    "#gives graphes for every feature\n"
   ],
   "outputs": [],
   "metadata": {}
  },
  {
   "cell_type": "code",
   "execution_count": 48,
   "source": [
    "log_model = LogisticRegression(C =1,random_state =state,max_iter=250)\n",
    "log_model.fit(train_vars,train_results)\n",
    "log_predictions=log_model.predict(test_vars)\n",
    "print(f'Coeffecients of the log model{log_model.coef_}')\n"
   ],
   "outputs": [
    {
     "output_type": "stream",
     "name": "stdout",
     "text": [
      "Coeffecients of the log model[[ 0.04550043  0.06107352  0.13227932 -0.03868584  0.09655225]]\n"
     ]
    }
   ],
   "metadata": {}
  },
  {
   "cell_type": "code",
   "execution_count": 49,
   "source": [
    "print(f'MSE: {mean_squared_error(tft,log_predictions)}')\n",
    "print(f'R2: {r2_score(tft,log_predictions)}')\n",
    "print(f'MAE: {mean_absolute_error(tft,log_predictions)}')\n",
    "print(f'AccuracyScore{accuracy_score(tft,log_predictions)}')"
   ],
   "outputs": [
    {
     "output_type": "stream",
     "name": "stdout",
     "text": [
      "MSE: 0.5454545454545454\n",
      "R2: -1.3571428571428572\n",
      "MAE: 0.5454545454545454\n",
      "AccuracyScore0.45454545454545453\n"
     ]
    }
   ],
   "metadata": {}
  },
  {
   "cell_type": "code",
   "execution_count": 50,
   "source": [
    "for feature in (test_vars.columns):\n",
    "    print(f'Feature:{feature}')\n",
    "    plt.clf()\n",
    "    plt.scatter(test_vars[feature],test_results,s=120)\n",
    "    plt.scatter(test_vars[feature], log_predictions, c=\"red\")\n",
    "    plt.show()"
   ],
   "outputs": [
    {
     "output_type": "stream",
     "name": "stdout",
     "text": [
      "Feature:X\n"
     ]
    },
    {
     "output_type": "display_data",
     "data": {
      "image/png": "[encoded data removed]",
      "text/plain": [
       "<Figure size 432x288 with 1 Axes>"
      ]
     },
     "metadata": {
      "needs_background": "light"
     }
    },
    {
     "output_type": "stream",
     "name": "stdout",
     "text": [
      "Feature:Y\n"
     ]
    },
    {
     "output_type": "display_data",
     "data": {
      "image/png": "[encoded data removed]",
      "text/plain": [
       "<Figure size 432x288 with 1 Axes>"
      ]
     },
     "metadata": {
      "needs_background": "light"
     }
    },
    {
     "output_type": "stream",
     "name": "stdout",
     "text": [
      "Feature:month\n"
     ]
    },
    {
     "output_type": "display_data",
     "data": {
      "image/png": "[encoded data removed]",
      "text/plain": [
       "<Figure size 432x288 with 1 Axes>"
      ]
     },
     "metadata": {
      "needs_background": "light"
     }
    },
    {
     "output_type": "stream",
     "name": "stdout",
     "text": [
      "Feature:day\n"
     ]
    },
    {
     "output_type": "display_data",
     "data": {
      "image/png": "[encoded data removed]",
      "text/plain": [
       "<Figure size 432x288 with 1 Axes>"
      ]
     },
     "metadata": {
      "needs_background": "light"
     }
    },
    {
     "output_type": "stream",
     "name": "stdout",
     "text": [
      "Feature:wind\n"
     ]
    },
    {
     "output_type": "display_data",
     "data": {
      "image/png": "[encoded data removed]",
      "text/plain": [
       "<Figure size 432x288 with 1 Axes>"
      ]
     },
     "metadata": {
      "needs_background": "light"
     }
    }
   ],
   "metadata": {}
  },
  {
   "cell_type": "code",
   "execution_count": 51,
   "source": [
    "from sklearn import svm"
   ],
   "outputs": [],
   "metadata": {}
  },
  {
   "cell_type": "code",
   "execution_count": 52,
   "source": [
    "clf =svm.SVC(random_state=state)\n",
    "clf.fit(train_vars,train_results)\n",
    "svm_predictions=clf.predict(test_vars)"
   ],
   "outputs": [],
   "metadata": {}
  },
  {
   "cell_type": "code",
   "execution_count": 53,
   "source": [
    "print(f'MSE: {mean_squared_error(tft,svm_predictions)}')\n",
    "print(f'R2: {r2_score(tft,svm_predictions)}')\n",
    "print(f'MAE: {mean_absolute_error(tft,svm_predictions)}')\n",
    "print(f'AccuracyScore{accuracy_score(tft,svm_predictions)}')"
   ],
   "outputs": [
    {
     "output_type": "stream",
     "name": "stdout",
     "text": [
      "MSE: 0.6363636363636364\n",
      "R2: -1.75\n",
      "MAE: 0.6363636363636364\n",
      "AccuracyScore0.36363636363636365\n"
     ]
    }
   ],
   "metadata": {}
  },
  {
   "cell_type": "code",
   "execution_count": 54,
   "source": [
    "for feature in test_vars.columns:\n",
    "    print(f'Feature:{feature}')\n",
    "    plt.clf()\n",
    "    plt.scatter(test_vars[feature],test_results,s=120)\n",
    "    plt.scatter(test_vars[feature], svm_predictions, c=\"red\")\n",
    "    plt.show()"
   ],
   "outputs": [
    {
     "output_type": "stream",
     "name": "stdout",
     "text": [
      "Feature:X\n"
     ]
    },
    {
     "output_type": "display_data",
     "data": {
      "image/png": "[encoded data removed]",
      "text/plain": [
       "<Figure size 432x288 with 1 Axes>"
      ]
     },
     "metadata": {
      "needs_background": "light"
     }
    },
    {
     "output_type": "stream",
     "name": "stdout",
     "text": [
      "Feature:Y\n"
     ]
    },
    {
     "output_type": "display_data",
     "data": {
      "image/png": "[encoded data removed]",
      "text/plain": [
       "<Figure size 432x288 with 1 Axes>"
      ]
     },
     "metadata": {
      "needs_background": "light"
     }
    },
    {
     "output_type": "stream",
     "name": "stdout",
     "text": [
      "Feature:month\n"
     ]
    },
    {
     "output_type": "display_data",
     "data": {
      "image/png": "[encoded data removed]",
      "text/plain": [
       "<Figure size 432x288 with 1 Axes>"
      ]
     },
     "metadata": {
      "needs_background": "light"
     }
    },
    {
     "output_type": "stream",
     "name": "stdout",
     "text": [
      "Feature:day\n"
     ]
    },
    {
     "output_type": "display_data",
     "data": {
      "image/png": "[encoded data removed]",
      "text/plain": [
       "<Figure size 432x288 with 1 Axes>"
      ]
     },
     "metadata": {
      "needs_background": "light"
     }
    },
    {
     "output_type": "stream",
     "name": "stdout",
     "text": [
      "Feature:wind\n"
     ]
    },
    {
     "output_type": "display_data",
     "data": {
      "image/png": "[encoded data removed]",
      "text/plain": [
       "<Figure size 432x288 with 1 Axes>"
      ]
     },
     "metadata": {
      "needs_background": "light"
     }
    }
   ],
   "metadata": {}
  }
 ],
 "metadata": {
  "orig_nbformat": 4,
  "language_info": {
   "name": "python",
   "version": "3.8.10",
   "mimetype": "text/x-python",
   "codemirror_mode": {
    "name": "ipython",
    "version": 3
   },
   "pygments_lexer": "ipython3",
   "nbconvert_exporter": "python",
   "file_extension": ".py"
  },
  "kernelspec": {
   "name": "python3",
   "display_name": "Python 3.8.10 64-bit"
  },
  "interpreter": {
   "hash": "916dbcbb3f70747c44a77c7bcd40155683ae19c65e1c03b4aa3499c5328201f1"
  }
 },
 "nbformat": 4,
 "nbformat_minor": 2
}