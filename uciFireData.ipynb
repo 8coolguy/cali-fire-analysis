{
 "cells": [
  {
   "cell_type": "code",
   "execution_count": 449,
   "metadata": {},
   "outputs": [],
   "source": [
    "import pandas as pd\n",
    "import numpy as np \n",
    "import matplotlib.pyplot as plt\n",
    "\n"
   ]
  },
  {
   "cell_type": "code",
   "execution_count": 450,
   "metadata": {},
   "outputs": [],
   "source": [
    "df =pd.read_csv(r'data/forestfires.csv')\n",
    "#df =df.drop(columns=[\"rain\"])"
   ]
  },
  {
   "cell_type": "code",
   "execution_count": 451,
   "metadata": {},
   "outputs": [],
   "source": [
    "months =[\"jan\",\"feb\",\"mar\",\"apr\",\"may\",\"jun\",\"jul\",\"aug\",\"sep\",\"oct\",\"nov\",\"dec\"]\n",
    "weekdays=[\"mon\",\"tue\",\"wed\",\"thu\",\"fri\",\"sat\",\"sun\"]\n",
    "for i in range(len(df[\"month\"])):\n",
    "    for j in range(len(months)):\n",
    "        if df.iloc[i][\"month\"] ==months[j]:\n",
    "            df.at[i,\"month\"]=j\n",
    "            break\n",
    "for i in range(len(df[\"day\"])):\n",
    "    for j in range(len(weekdays)):\n",
    "        if df.iloc[i][\"day\"] ==weekdays[j]:\n",
    "            df.at[i,\"day\"]=j\n",
    "            break\n",
    "fire_occured =[]\n",
    "for i in range(len(df)):\n",
    "    if df.iloc[i].area >0:\n",
    "        fire_occured.append(1)\n",
    "    else:\n",
    "        fire_occured.append(0)\n",
    "df[\"fire_occured\"] =fire_occured  \n"
   ]
  },
  {
   "cell_type": "code",
   "execution_count": 452,
   "metadata": {},
   "outputs": [],
   "source": [
    "\n",
    "area=np.array(df.area)"
   ]
  },
  {
   "cell_type": "markdown",
   "metadata": {},
   "source": [
    "#### We could either try regression and try to predict the fire area or use Classificatio to see if fire happened"
   ]
  },
  {
   "cell_type": "code",
   "execution_count": 453,
   "metadata": {},
   "outputs": [],
   "source": [
    "from sklearn.model_selection import train_test_split\n",
    "from sklearn import linear_model\n",
    "from sklearn.metrics import mean_squared_error, r2_score, accuracy_score,mean_squared_error,mean_absolute_error\n",
    "from sklearn.preprocessing import StandardScaler\n",
    "from sklearn.feature_selection import RFE, SelectFromModel\n",
    "from math import sqrt"
   ]
  },
  {
   "cell_type": "code",
   "execution_count": 454,
   "metadata": {},
   "outputs": [],
   "source": [
    "vars =df.drop(columns=[\"area\",\"fire_occured\"])\n",
    "scaler =StandardScaler().fit(vars)\n",
    "scaled_vars=scaler.transform(vars)\n"
   ]
  },
  {
   "cell_type": "markdown",
   "metadata": {},
   "source": [
    "## Trying out different feature selection methods"
   ]
  },
  {
   "cell_type": "code",
   "execution_count": 455,
   "metadata": {},
   "outputs": [
    {
     "name": "stdout",
     "output_type": "stream",
     "text": [
      "['X', 'Y', 'month', 'wind', 'rain'] selected features\n"
     ]
    },
    {
     "name": "stderr",
     "output_type": "stream",
     "text": [
      "/home/arnav/.local/lib/python3.8/site-packages/sklearn/svm/_base.py:985: ConvergenceWarning: Liblinear failed to converge, increase the number of iterations.\n",
      "  warnings.warn(\"Liblinear failed to converge, increase \"\n"
     ]
    }
   ],
   "source": [
    "#lasso model \n",
    "lr_selector =SelectFromModel(svm.LinearSVC(max_iter=200000),max_features=5)\n",
    "lr_selector.fit(vars,df.fire_occured)\n",
    "lr_support=lr_selector.get_support()\n",
    "lr_feature = vars.loc[:,lr_support].columns.tolist()\n",
    "print(str(lr_feature), 'selected features')"
   ]
  },
  {
   "cell_type": "code",
   "execution_count": 456,
   "metadata": {},
   "outputs": [
    {
     "name": "stdout",
     "output_type": "stream",
     "text": [
      "Fitting estimator with 12 features.\n",
      "['X', 'Y', 'month', 'wind', 'rain'] selected features\n"
     ]
    },
    {
     "name": "stderr",
     "output_type": "stream",
     "text": [
      "/home/arnav/.local/lib/python3.8/site-packages/sklearn/svm/_base.py:985: ConvergenceWarning: Liblinear failed to converge, increase the number of iterations.\n",
      "  warnings.warn(\"Liblinear failed to converge, increase \"\n"
     ]
    }
   ],
   "source": [
    "#regression feature elimination \n",
    "rfe_estimator =RFE(estimator=svm.LinearSVC(max_iter=200000),n_features_to_select=5,step=15,verbose=5,)\n",
    "rfe_estimator.fit(vars,df.fire_occured)\n",
    "rfe_support=rfe_estimator.get_support()\n",
    "rfe_feature = vars.loc[:,rfe_support].columns.tolist()\n",
    "print(str(rfe_feature), 'selected features')\n",
    "\n"
   ]
  },
  {
   "cell_type": "code",
   "execution_count": 457,
   "metadata": {},
   "outputs": [],
   "source": [
    "size =90\n",
    "state =45\n",
    "#rfe or lr\n",
    "train_vars,test_vars,train_results,test_results =train_test_split(vars.get(rfe_feature),np.array(df.fire_occured),test_size=1-size/100,random_state=state) "
   ]
  },
  {
   "cell_type": "code",
   "execution_count": 458,
   "metadata": {},
   "outputs": [],
   "source": [
    "reg_line =linear_model.LinearRegression()\n",
    "reg_line.fit(train_vars,train_results)\n",
    "#print(f'Coeffecients of the linear model{reg_line.coef_}')\n",
    "\n",
    "predictions =reg_line.predict(test_vars)"
   ]
  },
  {
   "cell_type": "code",
   "execution_count": 459,
   "metadata": {},
   "outputs": [],
   "source": [
    "predictions=[round(i) for i in predictions]"
   ]
  },
  {
   "cell_type": "code",
   "execution_count": 460,
   "metadata": {},
   "outputs": [
    {
     "name": "stdout",
     "output_type": "stream",
     "text": [
      "RMSE: 0.6504436355879909\n",
      "R2: -0.694814814814815\n",
      "MAE: 0.4230769230769231\n",
      "AccuracyScore0.5769230769230769\n"
     ]
    }
   ],
   "source": [
    "print(f'RMSE: {sqrt(mean_squared_error(test_results,predictions))}')\n",
    "print(f'R2: {r2_score(test_results,predictions)}')\n",
    "print(f'MAE: {mean_absolute_error(test_results,predictions)}')\n",
    "print(f'AccuracyScore{accuracy_score(test_results,predictions)}')\n",
    "\n"
   ]
  },
  {
   "cell_type": "code",
   "execution_count": 461,
   "metadata": {},
   "outputs": [
    {
     "name": "stdout",
     "output_type": "stream",
     "text": [
      "Feature:X\n"
     ]
    },
    {
     "data": {
      "image/png": "[encoded data removed]",
      "text/plain": [
       "<Figure size 432x288 with 1 Axes>"
      ]
     },
     "metadata": {
      "needs_background": "light"
     },
     "output_type": "display_data"
    },
    {
     "name": "stdout",
     "output_type": "stream",
     "text": [
      "Feature:Y\n"
     ]
    },
    {
     "data": {
      "image/png": "[encoded data removed]",
      "text/plain": [
       "<Figure size 432x288 with 1 Axes>"
      ]
     },
     "metadata": {
      "needs_background": "light"
     },
     "output_type": "display_data"
    },
    {
     "name": "stdout",
     "output_type": "stream",
     "text": [
      "Feature:month\n"
     ]
    },
    {
     "data": {
      "image/png": "[encoded data removed]",
      "text/plain": [
       "<Figure size 432x288 with 1 Axes>"
      ]
     },
     "metadata": {
      "needs_background": "light"
     },
     "output_type": "display_data"
    },
    {
     "name": "stdout",
     "output_type": "stream",
     "text": [
      "Feature:wind\n"
     ]
    },
    {
     "data": {
      "image/png": "[encoded data removed]",
      "text/plain": [
       "<Figure size 432x288 with 1 Axes>"
      ]
     },
     "metadata": {
      "needs_background": "light"
     },
     "output_type": "display_data"
    },
    {
     "name": "stdout",
     "output_type": "stream",
     "text": [
      "Feature:rain\n"
     ]
    },
    {
     "data": {
      "image/png": "[encoded data removed]",
      "text/plain": [
       "<Figure size 432x288 with 1 Axes>"
      ]
     },
     "metadata": {
      "needs_background": "light"
     },
     "output_type": "display_data"
    }
   ],
   "source": [
    "for feature in (test_vars.columns):\n",
    "    print(f'Feature:{feature}')\n",
    "    plt.clf()\n",
    "    plt.scatter(test_vars[feature],test_results,s=120)\n",
    "    plt.scatter(test_vars[feature], predictions, c=\"red\")\n",
    "    plt.show()"
   ]
  },
  {
   "cell_type": "code",
   "execution_count": 462,
   "metadata": {},
   "outputs": [],
   "source": [
    "import seaborn as sn\n",
    "import  matplotlib.pyplot as plt\n",
    "from sklearn.linear_model import LogisticRegression"
   ]
  },
  {
   "cell_type": "code",
   "execution_count": 463,
   "metadata": {},
   "outputs": [],
   "source": [
    "#change purpose to make this aclassifier model that is now trying to predict wether there is a fire\n",
    "#sn.pairplot(df,height=1)\n",
    "#gives graphes for every feature\n"
   ]
  },
  {
   "cell_type": "code",
   "execution_count": 464,
   "metadata": {},
   "outputs": [
    {
     "name": "stdout",
     "output_type": "stream",
     "text": [
      "[0.57446809 0.53191489 0.5106383  0.55319149 0.61702128 0.52173913\n",
      " 0.58695652 0.52173913 0.63043478 0.47826087]\n",
      "Coeffecients of the log model[[0.02777994 0.07838676 0.12490757 0.08381246 0.18096993]]\n"
     ]
    }
   ],
   "source": [
    "log_model = LogisticRegression(C =1,random_state =state,max_iter=250)\n",
    "cv = KFold(n_splits=10, random_state=1, shuffle=True)\n",
    "scores = cross_val_score(log_model, train_vars, train_results, scoring='accuracy', cv=cv, n_jobs=-1)\n",
    "print(scores)\n",
    "log_model.fit(train_vars,train_results)\n",
    "log_predictions=log_model.predict(test_vars)\n",
    "print(f'Coeffecients of the log model{log_model.coef_}')\n"
   ]
  },
  {
   "cell_type": "code",
   "execution_count": 465,
   "metadata": {},
   "outputs": [
    {
     "name": "stdout",
     "output_type": "stream",
     "text": [
      "MSE: 0.4230769230769231\n",
      "R2: -0.694814814814815\n",
      "MAE: 0.4230769230769231\n",
      "AccuracyScore0.5769230769230769\n"
     ]
    }
   ],
   "source": [
    "print(f'MSE: {mean_squared_error(test_results,log_predictions)}')\n",
    "print(f'R2: {r2_score(test_results,log_predictions)}')\n",
    "print(f'MAE: {mean_absolute_error(test_results,log_predictions)}')\n",
    "print(f'AccuracyScore{accuracy_score(test_results,log_predictions)}')"
   ]
  },
  {
   "cell_type": "code",
   "execution_count": 466,
   "metadata": {},
   "outputs": [
    {
     "name": "stdout",
     "output_type": "stream",
     "text": [
      "Feature:X\n"
     ]
    },
    {
     "data": {
      "image/png": "[encoded data removed]",
      "text/plain": [
       "<Figure size 432x288 with 1 Axes>"
      ]
     },
     "metadata": {
      "needs_background": "light"
     },
     "output_type": "display_data"
    },
    {
     "name": "stdout",
     "output_type": "stream",
     "text": [
      "Feature:Y\n"
     ]
    },
    {
     "data": {
      "image/png": "[encoded data removed]",
      "text/plain": [
       "<Figure size 432x288 with 1 Axes>"
      ]
     },
     "metadata": {
      "needs_background": "light"
     },
     "output_type": "display_data"
    },
    {
     "name": "stdout",
     "output_type": "stream",
     "text": [
      "Feature:month\n"
     ]
    },
    {
     "data": {
      "image/png": "[encoded data removed]",
      "text/plain": [
       "<Figure size 432x288 with 1 Axes>"
      ]
     },
     "metadata": {
      "needs_background": "light"
     },
     "output_type": "display_data"
    },
    {
     "name": "stdout",
     "output_type": "stream",
     "text": [
      "Feature:wind\n"
     ]
    },
    {
     "data": {
      "image/png": "[encoded data removed]",
      "text/plain": [
       "<Figure size 432x288 with 1 Axes>"
      ]
     },
     "metadata": {
      "needs_background": "light"
     },
     "output_type": "display_data"
    },
    {
     "name": "stdout",
     "output_type": "stream",
     "text": [
      "Feature:rain\n"
     ]
    },
    {
     "data": {
      "image/png": "[encoded data removed]",
      "text/plain": [
       "<Figure size 432x288 with 1 Axes>"
      ]
     },
     "metadata": {
      "needs_background": "light"
     },
     "output_type": "display_data"
    }
   ],
   "source": [
    "for feature in (test_vars.columns):\n",
    "    print(f'Feature:{feature}')\n",
    "    plt.clf()\n",
    "    plt.scatter(test_vars[feature],test_results,s=120)\n",
    "    plt.scatter(test_vars[feature], log_predictions, c=\"red\")\n",
    "    plt.show()"
   ]
  },
  {
   "cell_type": "code",
   "execution_count": 467,
   "metadata": {},
   "outputs": [],
   "source": [
    "from sklearn import svm"
   ]
  },
  {
   "cell_type": "code",
   "execution_count": 468,
   "metadata": {},
   "outputs": [
    {
     "name": "stdout",
     "output_type": "stream",
     "text": [
      "[0.59574468 0.53191489 0.5106383  0.57446809 0.59574468 0.52173913\n",
      " 0.60869565 0.52173913 0.63043478 0.47826087]\n"
     ]
    }
   ],
   "source": [
    "clf =svm.LinearSVC(random_state=state,max_iter=100000,dual=False)\n",
    "cv = KFold(n_splits=10, random_state=1, shuffle=True)\n",
    "scores = cross_val_score(clf, train_vars, train_results, scoring='accuracy', cv=cv, n_jobs=-1)\n",
    "print(scores)\n",
    "clf.fit(train_vars,train_results)\n",
    "svm_predictions=clf.predict(test_vars)"
   ]
  },
  {
   "cell_type": "code",
   "execution_count": 469,
   "metadata": {},
   "outputs": [
    {
     "name": "stdout",
     "output_type": "stream",
     "text": [
      "RMSE: 0.6504436355879909\n",
      "R2: -0.694814814814815\n",
      "MAE: 0.4230769230769231\n",
      "AccuracyScore0.5769230769230769\n"
     ]
    }
   ],
   "source": [
    "print(f'RMSE: {sqrt(mean_squared_error(test_results,svm_predictions))}')\n",
    "print(f'R2: {r2_score(test_results,svm_predictions)}')\n",
    "print(f'MAE: {mean_absolute_error(test_results,svm_predictions)}')\n",
    "print(f'AccuracyScore{accuracy_score(test_results,svm_predictions)}')"
   ]
  },
  {
   "cell_type": "code",
   "execution_count": 470,
   "metadata": {},
   "outputs": [
    {
     "name": "stdout",
     "output_type": "stream",
     "text": [
      "Feature:X\n"
     ]
    },
    {
     "data": {
      "image/png": "[encoded data removed]",
      "text/plain": [
       "<Figure size 432x288 with 1 Axes>"
      ]
     },
     "metadata": {
      "needs_background": "light"
     },
     "output_type": "display_data"
    },
    {
     "name": "stdout",
     "output_type": "stream",
     "text": [
      "Feature:Y\n"
     ]
    },
    {
     "data": {
      "image/png": "[encoded data removed]",
      "text/plain": [
       "<Figure size 432x288 with 1 Axes>"
      ]
     },
     "metadata": {
      "needs_background": "light"
     },
     "output_type": "display_data"
    },
    {
     "name": "stdout",
     "output_type": "stream",
     "text": [
      "Feature:month\n"
     ]
    },
    {
     "data": {
      "image/png": "[encoded data removed]",
      "text/plain": [
       "<Figure size 432x288 with 1 Axes>"
      ]
     },
     "metadata": {
      "needs_background": "light"
     },
     "output_type": "display_data"
    },
    {
     "name": "stdout",
     "output_type": "stream",
     "text": [
      "Feature:wind\n"
     ]
    },
    {
     "data": {
      "image/png": "[encoded data removed]",
      "text/plain": [
       "<Figure size 432x288 with 1 Axes>"
      ]
     },
     "metadata": {
      "needs_background": "light"
     },
     "output_type": "display_data"
    },
    {
     "name": "stdout",
     "output_type": "stream",
     "text": [
      "Feature:rain\n"
     ]
    },
    {
     "data": {
      "image/png": "[encoded data removed]",
      "text/plain": [
       "<Figure size 432x288 with 1 Axes>"
      ]
     },
     "metadata": {
      "needs_background": "light"
     },
     "output_type": "display_data"
    }
   ],
   "source": [
    "for feature in test_vars.columns:\n",
    "    print(f'Feature:{feature}')\n",
    "    plt.clf()\n",
    "    plt.scatter(test_vars[feature],test_results,s=120)\n",
    "    plt.scatter(test_vars[feature], svm_predictions, c=\"red\")\n",
    "    plt.show()"
   ]
  },
  {
   "cell_type": "code",
   "execution_count": 471,
   "metadata": {},
   "outputs": [],
   "source": [
    "from sklearn.ensemble import RandomForestClassifier\n",
    "from sklearn.model_selection import KFold\n",
    "from sklearn.model_selection import cross_val_score"
   ]
  },
  {
   "cell_type": "code",
   "execution_count": 472,
   "metadata": {},
   "outputs": [
    {
     "name": "stdout",
     "output_type": "stream",
     "text": [
      "[0.53191489 0.55319149 0.53191489 0.65957447 0.61702128 0.54347826\n",
      " 0.65217391 0.52173913 0.67391304 0.52173913]\n"
     ]
    }
   ],
   "source": [
    "rf=RandomForestClassifier(n_estimators=300, random_state=state)\n",
    "cv = KFold(n_splits=10, random_state=1, shuffle=True)\n",
    "\n",
    "scores = cross_val_score(rf, train_vars, train_results, scoring='accuracy', cv=cv, n_jobs=-1)\n",
    "print(scores)\n",
    "rf.fit(train_vars,train_results)\n",
    "rf_predictions=rf.predict(test_vars)\n"
   ]
  },
  {
   "cell_type": "code",
   "execution_count": 473,
   "metadata": {},
   "outputs": [
    {
     "name": "stdout",
     "output_type": "stream",
     "text": [
      "RMSE: 0.6201736729460423\n",
      "R2: -0.5407407407407407\n",
      "MAE: 0.38461538461538464\n",
      "AccuracyScore0.6153846153846154\n"
     ]
    }
   ],
   "source": [
    "print(f'RMSE: {sqrt(mean_squared_error(test_results,rf_predictions))}')\n",
    "print(f'R2: {r2_score(test_results,rf_predictions)}')\n",
    "print(f'MAE: {mean_absolute_error(test_results,rf_predictions)}')\n",
    "print(f'AccuracyScore{accuracy_score(test_results,rf_predictions)}')"
   ]
  },
  {
   "cell_type": "code",
   "execution_count": 474,
   "metadata": {},
   "outputs": [
    {
     "name": "stdout",
     "output_type": "stream",
     "text": [
      "Feature:X\n"
     ]
    },
    {
     "data": {
      "image/png": "[encoded data removed]",
      "text/plain": [
       "<Figure size 432x288 with 1 Axes>"
      ]
     },
     "metadata": {
      "needs_background": "light"
     },
     "output_type": "display_data"
    },
    {
     "name": "stdout",
     "output_type": "stream",
     "text": [
      "Feature:Y\n"
     ]
    },
    {
     "data": {
      "image/png": "[encoded data removed]",
      "text/plain": [
       "<Figure size 432x288 with 1 Axes>"
      ]
     },
     "metadata": {
      "needs_background": "light"
     },
     "output_type": "display_data"
    },
    {
     "name": "stdout",
     "output_type": "stream",
     "text": [
      "Feature:month\n"
     ]
    },
    {
     "data": {
      "image/png": "[encoded data removed]",
      "text/plain": [
       "<Figure size 432x288 with 1 Axes>"
      ]
     },
     "metadata": {
      "needs_background": "light"
     },
     "output_type": "display_data"
    },
    {
     "name": "stdout",
     "output_type": "stream",
     "text": [
      "Feature:wind\n"
     ]
    },
    {
     "data": {
      "image/png": "[encoded data removed]",
      "text/plain": [
       "<Figure size 432x288 with 1 Axes>"
      ]
     },
     "metadata": {
      "needs_background": "light"
     },
     "output_type": "display_data"
    },
    {
     "name": "stdout",
     "output_type": "stream",
     "text": [
      "Feature:rain\n"
     ]
    },
    {
     "data": {
      "image/png": "[encoded data removed]",
      "text/plain": [
       "<Figure size 432x288 with 1 Axes>"
      ]
     },
     "metadata": {
      "needs_background": "light"
     },
     "output_type": "display_data"
    }
   ],
   "source": [
    "for feature in test_vars.columns:\n",
    "    print(f'Feature:{feature}')\n",
    "    plt.clf()\n",
    "    plt.scatter(test_vars[feature],test_results,s=120)\n",
    "    plt.scatter(test_vars[feature], rf_predictions, c=\"red\")\n",
    "    plt.show()"
   ]
  },
  {
   "cell_type": "code",
   "execution_count": 475,
   "metadata": {},
   "outputs": [],
   "source": [
    "from sklearn.model_selection import RandomizedSearchCV"
   ]
  },
  {
   "cell_type": "code",
   "execution_count": 476,
   "metadata": {},
   "outputs": [
    {
     "data": {
      "text/plain": [
       "{'bootstrap': True,\n",
       " 'ccp_alpha': 0.0,\n",
       " 'class_weight': None,\n",
       " 'criterion': 'gini',\n",
       " 'max_depth': None,\n",
       " 'max_features': 'auto',\n",
       " 'max_leaf_nodes': None,\n",
       " 'max_samples': None,\n",
       " 'min_impurity_decrease': 0.0,\n",
       " 'min_impurity_split': None,\n",
       " 'min_samples_leaf': 1,\n",
       " 'min_samples_split': 2,\n",
       " 'min_weight_fraction_leaf': 0.0,\n",
       " 'n_estimators': 300,\n",
       " 'n_jobs': None,\n",
       " 'oob_score': False,\n",
       " 'random_state': 45,\n",
       " 'verbose': 0,\n",
       " 'warm_start': False}"
      ]
     },
     "execution_count": 476,
     "metadata": {},
     "output_type": "execute_result"
    }
   ],
   "source": [
    "rf.get_params()"
   ]
  },
  {
   "cell_type": "code",
   "execution_count": 477,
   "metadata": {},
   "outputs": [
    {
     "name": "stdout",
     "output_type": "stream",
     "text": [
      "{'n_estimators': [300, 310, 321, 331, 342, 352, 363, 373, 384, 394, 405, 415, 426, 436, 447, 457, 468, 478, 489, 500], 'max_features': ['auto', 'sqrt'], 'max_depth': [15, 18, 21, 25, 28, 31, 35, None], 'min_samples_split': [2, 3, 5], 'min_samples_leaf': [1, 2, 4]}\n"
     ]
    }
   ],
   "source": [
    "#Number of trees in random forest\n",
    "n_estimators = [int(x) for x in np.linspace(start = 300, stop = 500, num = 20)]\n",
    "#Number of features to consider at every split\n",
    "max_features = ['auto', 'sqrt']\n",
    "#Maximum number of levels in tree\n",
    "max_depth = [int(x) for x in np.linspace(15, 35, num = 7)]\n",
    "max_depth.append(None)\n",
    "#Minimum number of samples required to split a node\n",
    "min_samples_split = [2, 3, 5]\n",
    "#Minimum number of samples required at each leaf node\n",
    "min_samples_leaf = [1, 2, 4]\n",
    "#Create the random grid\n",
    "random_grid = {'n_estimators': n_estimators,\n",
    "               'max_features': max_features,\n",
    "               'max_depth': max_depth,\n",
    "               'min_samples_split': min_samples_split,\n",
    "               'min_samples_leaf': min_samples_leaf,\n",
    "                }\n",
    "print(random_grid)"
   ]
  },
  {
   "cell_type": "code",
   "execution_count": 478,
   "metadata": {},
   "outputs": [
    {
     "name": "stdout",
     "output_type": "stream",
     "text": [
      "Fitting 3 folds for each of 50 candidates, totalling 150 fits\n",
      "[CV] END max_depth=35, max_features=sqrt, min_samples_leaf=2, min_samples_split=3, n_estimators=342; total time=   0.5s\n",
      "[CV] END max_depth=35, max_features=sqrt, min_samples_leaf=2, min_samples_split=3, n_estimators=342; total time=   0.5s\n",
      "[CV] END max_depth=35, max_features=sqrt, min_samples_leaf=2, min_samples_split=3, n_estimators=342; total time=   0.5s\n",
      "[CV] END max_depth=35, max_features=sqrt, min_samples_leaf=2, min_samples_split=2, n_estimators=352; total time=   0.5s\n",
      "[CV] END max_depth=35, max_features=sqrt, min_samples_leaf=2, min_samples_split=2, n_estimators=352; total time=   0.5s\n",
      "[CV] END max_depth=35, max_features=sqrt, min_samples_leaf=2, min_samples_split=2, n_estimators=352; total time=   0.5s\n",
      "[CV] END max_depth=15, max_features=auto, min_samples_leaf=4, min_samples_split=5, n_estimators=468; total time=   0.6s\n",
      "[CV] END max_depth=15, max_features=auto, min_samples_leaf=4, min_samples_split=5, n_estimators=468; total time=   0.6s\n",
      "[CV] END max_depth=15, max_features=auto, min_samples_leaf=4, min_samples_split=5, n_estimators=468; total time=   0.6s\n",
      "[CV] END max_depth=15, max_features=sqrt, min_samples_leaf=2, min_samples_split=3, n_estimators=478; total time=   0.7s\n",
      "[CV] END max_depth=15, max_features=sqrt, min_samples_leaf=2, min_samples_split=3, n_estimators=478; total time=   0.7s\n",
      "[CV] END max_depth=15, max_features=sqrt, min_samples_leaf=2, min_samples_split=3, n_estimators=478; total time=   0.7s\n",
      "[CV] END max_depth=31, max_features=sqrt, min_samples_leaf=1, min_samples_split=3, n_estimators=300; total time=   0.4s\n",
      "[CV] END max_depth=31, max_features=sqrt, min_samples_leaf=1, min_samples_split=3, n_estimators=300; total time=   0.5s\n",
      "[CV] END max_depth=31, max_features=sqrt, min_samples_leaf=1, min_samples_split=3, n_estimators=300; total time=   0.4s\n",
      "[CV] END max_depth=28, max_features=sqrt, min_samples_leaf=1, min_samples_split=2, n_estimators=468; total time=   0.7s\n",
      "[CV] END max_depth=28, max_features=sqrt, min_samples_leaf=1, min_samples_split=2, n_estimators=468; total time=   0.7s\n",
      "[CV] END max_depth=28, max_features=sqrt, min_samples_leaf=1, min_samples_split=2, n_estimators=468; total time=   0.7s\n",
      "[CV] END max_depth=31, max_features=auto, min_samples_leaf=4, min_samples_split=3, n_estimators=352; total time=   0.5s\n",
      "[CV] END max_depth=31, max_features=auto, min_samples_leaf=4, min_samples_split=3, n_estimators=352; total time=   0.5s\n",
      "[CV] END max_depth=31, max_features=auto, min_samples_leaf=4, min_samples_split=3, n_estimators=352; total time=   0.5s\n",
      "[CV] END max_depth=25, max_features=sqrt, min_samples_leaf=2, min_samples_split=3, n_estimators=468; total time=   0.6s\n",
      "[CV] END max_depth=25, max_features=sqrt, min_samples_leaf=2, min_samples_split=3, n_estimators=468; total time=   0.7s\n",
      "[CV] END max_depth=25, max_features=sqrt, min_samples_leaf=2, min_samples_split=3, n_estimators=468; total time=   0.7s\n",
      "[CV] END max_depth=28, max_features=sqrt, min_samples_leaf=4, min_samples_split=5, n_estimators=457; total time=   0.6s\n",
      "[CV] END max_depth=28, max_features=sqrt, min_samples_leaf=4, min_samples_split=5, n_estimators=457; total time=   0.6s\n",
      "[CV] END max_depth=28, max_features=sqrt, min_samples_leaf=4, min_samples_split=5, n_estimators=457; total time=   0.6s\n",
      "[CV] END max_depth=35, max_features=sqrt, min_samples_leaf=2, min_samples_split=3, n_estimators=436; total time=   0.6s\n",
      "[CV] END max_depth=35, max_features=sqrt, min_samples_leaf=2, min_samples_split=3, n_estimators=436; total time=   0.6s\n",
      "[CV] END max_depth=35, max_features=sqrt, min_samples_leaf=2, min_samples_split=3, n_estimators=436; total time=   0.6s\n",
      "[CV] END max_depth=21, max_features=sqrt, min_samples_leaf=1, min_samples_split=5, n_estimators=447; total time=   0.6s\n",
      "[CV] END max_depth=21, max_features=sqrt, min_samples_leaf=1, min_samples_split=5, n_estimators=447; total time=   0.6s\n",
      "[CV] END max_depth=21, max_features=sqrt, min_samples_leaf=1, min_samples_split=5, n_estimators=447; total time=   0.7s\n",
      "[CV] END max_depth=25, max_features=sqrt, min_samples_leaf=2, min_samples_split=2, n_estimators=321; total time=   0.5s\n",
      "[CV] END max_depth=25, max_features=sqrt, min_samples_leaf=2, min_samples_split=2, n_estimators=321; total time=   0.5s\n",
      "[CV] END max_depth=25, max_features=sqrt, min_samples_leaf=2, min_samples_split=2, n_estimators=321; total time=   0.4s\n",
      "[CV] END max_depth=21, max_features=sqrt, min_samples_leaf=1, min_samples_split=2, n_estimators=300; total time=   0.4s\n",
      "[CV] END max_depth=21, max_features=sqrt, min_samples_leaf=1, min_samples_split=2, n_estimators=300; total time=   0.4s\n",
      "[CV] END max_depth=21, max_features=sqrt, min_samples_leaf=1, min_samples_split=2, n_estimators=300; total time=   0.4s\n",
      "[CV] END max_depth=35, max_features=sqrt, min_samples_leaf=1, min_samples_split=3, n_estimators=405; total time=   0.6s\n",
      "[CV] END max_depth=35, max_features=sqrt, min_samples_leaf=1, min_samples_split=3, n_estimators=405; total time=   0.6s\n",
      "[CV] END max_depth=35, max_features=sqrt, min_samples_leaf=1, min_samples_split=3, n_estimators=405; total time=   0.6s\n",
      "[CV] END max_depth=28, max_features=sqrt, min_samples_leaf=1, min_samples_split=5, n_estimators=352; total time=   0.6s\n",
      "[CV] END max_depth=28, max_features=sqrt, min_samples_leaf=1, min_samples_split=5, n_estimators=352; total time=   0.7s\n",
      "[CV] END max_depth=28, max_features=sqrt, min_samples_leaf=1, min_samples_split=5, n_estimators=352; total time=   0.6s\n",
      "[CV] END max_depth=25, max_features=sqrt, min_samples_leaf=4, min_samples_split=5, n_estimators=394; total time=   0.6s\n",
      "[CV] END max_depth=25, max_features=sqrt, min_samples_leaf=4, min_samples_split=5, n_estimators=394; total time=   0.6s\n",
      "[CV] END max_depth=25, max_features=sqrt, min_samples_leaf=4, min_samples_split=5, n_estimators=394; total time=   0.6s\n",
      "[CV] END max_depth=31, max_features=sqrt, min_samples_leaf=2, min_samples_split=5, n_estimators=415; total time=   0.6s\n",
      "[CV] END max_depth=31, max_features=sqrt, min_samples_leaf=2, min_samples_split=5, n_estimators=415; total time=   0.7s\n",
      "[CV] END max_depth=31, max_features=sqrt, min_samples_leaf=2, min_samples_split=5, n_estimators=415; total time=   0.7s\n",
      "[CV] END max_depth=35, max_features=sqrt, min_samples_leaf=4, min_samples_split=5, n_estimators=331; total time=   0.5s\n",
      "[CV] END max_depth=35, max_features=sqrt, min_samples_leaf=4, min_samples_split=5, n_estimators=331; total time=   0.5s\n",
      "[CV] END max_depth=35, max_features=sqrt, min_samples_leaf=4, min_samples_split=5, n_estimators=331; total time=   0.5s\n",
      "[CV] END max_depth=25, max_features=sqrt, min_samples_leaf=4, min_samples_split=5, n_estimators=426; total time=   0.6s\n",
      "[CV] END max_depth=25, max_features=sqrt, min_samples_leaf=4, min_samples_split=5, n_estimators=426; total time=   0.6s\n",
      "[CV] END max_depth=25, max_features=sqrt, min_samples_leaf=4, min_samples_split=5, n_estimators=426; total time=   0.7s\n",
      "[CV] END max_depth=18, max_features=sqrt, min_samples_leaf=4, min_samples_split=2, n_estimators=331; total time=   0.5s\n",
      "[CV] END max_depth=18, max_features=sqrt, min_samples_leaf=4, min_samples_split=2, n_estimators=331; total time=   0.5s\n",
      "[CV] END max_depth=18, max_features=sqrt, min_samples_leaf=4, min_samples_split=2, n_estimators=331; total time=   0.5s\n",
      "[CV] END max_depth=None, max_features=sqrt, min_samples_leaf=2, min_samples_split=2, n_estimators=415; total time=   0.7s\n",
      "[CV] END max_depth=None, max_features=sqrt, min_samples_leaf=2, min_samples_split=2, n_estimators=415; total time=   0.7s\n",
      "[CV] END max_depth=None, max_features=sqrt, min_samples_leaf=2, min_samples_split=2, n_estimators=415; total time=   0.7s\n",
      "[CV] END max_depth=None, max_features=auto, min_samples_leaf=4, min_samples_split=2, n_estimators=426; total time=   0.7s\n",
      "[CV] END max_depth=None, max_features=auto, min_samples_leaf=4, min_samples_split=2, n_estimators=426; total time=   0.8s\n",
      "[CV] END max_depth=None, max_features=auto, min_samples_leaf=4, min_samples_split=2, n_estimators=426; total time=   0.7s\n",
      "[CV] END max_depth=31, max_features=auto, min_samples_leaf=1, min_samples_split=5, n_estimators=394; total time=   0.7s\n",
      "[CV] END max_depth=31, max_features=auto, min_samples_leaf=1, min_samples_split=5, n_estimators=394; total time=   0.6s\n",
      "[CV] END max_depth=31, max_features=auto, min_samples_leaf=1, min_samples_split=5, n_estimators=394; total time=   0.7s\n",
      "[CV] END max_depth=31, max_features=auto, min_samples_leaf=2, min_samples_split=3, n_estimators=342; total time=   0.6s\n",
      "[CV] END max_depth=31, max_features=auto, min_samples_leaf=2, min_samples_split=3, n_estimators=342; total time=   0.6s\n",
      "[CV] END max_depth=31, max_features=auto, min_samples_leaf=2, min_samples_split=3, n_estimators=342; total time=   0.6s\n",
      "[CV] END max_depth=28, max_features=sqrt, min_samples_leaf=4, min_samples_split=3, n_estimators=373; total time=   0.6s\n",
      "[CV] END max_depth=28, max_features=sqrt, min_samples_leaf=4, min_samples_split=3, n_estimators=373; total time=   0.6s\n",
      "[CV] END max_depth=28, max_features=sqrt, min_samples_leaf=4, min_samples_split=3, n_estimators=373; total time=   0.6s\n",
      "[CV] END max_depth=15, max_features=auto, min_samples_leaf=4, min_samples_split=5, n_estimators=415; total time=   0.7s\n",
      "[CV] END max_depth=15, max_features=auto, min_samples_leaf=4, min_samples_split=5, n_estimators=415; total time=   0.7s\n",
      "[CV] END max_depth=15, max_features=auto, min_samples_leaf=4, min_samples_split=5, n_estimators=415; total time=   0.7s\n",
      "[CV] END max_depth=18, max_features=auto, min_samples_leaf=4, min_samples_split=2, n_estimators=363; total time=   0.6s\n",
      "[CV] END max_depth=18, max_features=auto, min_samples_leaf=4, min_samples_split=2, n_estimators=363; total time=   0.7s\n",
      "[CV] END max_depth=18, max_features=auto, min_samples_leaf=4, min_samples_split=2, n_estimators=363; total time=   0.6s\n",
      "[CV] END max_depth=31, max_features=auto, min_samples_leaf=2, min_samples_split=2, n_estimators=363; total time=   0.6s\n",
      "[CV] END max_depth=31, max_features=auto, min_samples_leaf=2, min_samples_split=2, n_estimators=363; total time=   0.6s\n",
      "[CV] END max_depth=31, max_features=auto, min_samples_leaf=2, min_samples_split=2, n_estimators=363; total time=   0.6s\n",
      "[CV] END max_depth=25, max_features=auto, min_samples_leaf=4, min_samples_split=2, n_estimators=310; total time=   0.5s\n",
      "[CV] END max_depth=25, max_features=auto, min_samples_leaf=4, min_samples_split=2, n_estimators=310; total time=   0.5s\n",
      "[CV] END max_depth=25, max_features=auto, min_samples_leaf=4, min_samples_split=2, n_estimators=310; total time=   0.5s\n",
      "[CV] END max_depth=35, max_features=sqrt, min_samples_leaf=1, min_samples_split=2, n_estimators=363; total time=   0.6s\n",
      "[CV] END max_depth=35, max_features=sqrt, min_samples_leaf=1, min_samples_split=2, n_estimators=363; total time=   0.6s\n",
      "[CV] END max_depth=35, max_features=sqrt, min_samples_leaf=1, min_samples_split=2, n_estimators=363; total time=   0.6s\n",
      "[CV] END max_depth=15, max_features=auto, min_samples_leaf=1, min_samples_split=3, n_estimators=489; total time=   0.7s\n",
      "[CV] END max_depth=15, max_features=auto, min_samples_leaf=1, min_samples_split=3, n_estimators=489; total time=   0.7s\n",
      "[CV] END max_depth=15, max_features=auto, min_samples_leaf=1, min_samples_split=3, n_estimators=489; total time=   0.7s\n",
      "[CV] END max_depth=18, max_features=sqrt, min_samples_leaf=4, min_samples_split=5, n_estimators=405; total time=   0.5s\n",
      "[CV] END max_depth=18, max_features=sqrt, min_samples_leaf=4, min_samples_split=5, n_estimators=405; total time=   0.5s\n",
      "[CV] END max_depth=18, max_features=sqrt, min_samples_leaf=4, min_samples_split=5, n_estimators=405; total time=   0.5s\n",
      "[CV] END max_depth=25, max_features=auto, min_samples_leaf=1, min_samples_split=5, n_estimators=426; total time=   0.6s\n",
      "[CV] END max_depth=25, max_features=auto, min_samples_leaf=1, min_samples_split=5, n_estimators=426; total time=   0.6s\n",
      "[CV] END max_depth=25, max_features=auto, min_samples_leaf=1, min_samples_split=5, n_estimators=426; total time=   0.6s\n",
      "[CV] END max_depth=31, max_features=sqrt, min_samples_leaf=4, min_samples_split=5, n_estimators=405; total time=   0.5s\n",
      "[CV] END max_depth=31, max_features=sqrt, min_samples_leaf=4, min_samples_split=5, n_estimators=405; total time=   0.5s\n",
      "[CV] END max_depth=31, max_features=sqrt, min_samples_leaf=4, min_samples_split=5, n_estimators=405; total time=   0.6s\n",
      "[CV] END max_depth=18, max_features=sqrt, min_samples_leaf=2, min_samples_split=5, n_estimators=310; total time=   0.5s\n",
      "[CV] END max_depth=18, max_features=sqrt, min_samples_leaf=2, min_samples_split=5, n_estimators=310; total time=   0.5s\n",
      "[CV] END max_depth=18, max_features=sqrt, min_samples_leaf=2, min_samples_split=5, n_estimators=310; total time=   0.4s\n",
      "[CV] END max_depth=15, max_features=sqrt, min_samples_leaf=2, min_samples_split=2, n_estimators=478; total time=   0.6s\n",
      "[CV] END max_depth=15, max_features=sqrt, min_samples_leaf=2, min_samples_split=2, n_estimators=478; total time=   0.7s\n",
      "[CV] END max_depth=15, max_features=sqrt, min_samples_leaf=2, min_samples_split=2, n_estimators=478; total time=   0.7s\n",
      "[CV] END max_depth=35, max_features=auto, min_samples_leaf=1, min_samples_split=3, n_estimators=363; total time=   0.5s\n",
      "[CV] END max_depth=35, max_features=auto, min_samples_leaf=1, min_samples_split=3, n_estimators=363; total time=   0.5s\n",
      "[CV] END max_depth=35, max_features=auto, min_samples_leaf=1, min_samples_split=3, n_estimators=363; total time=   0.5s\n",
      "[CV] END max_depth=35, max_features=sqrt, min_samples_leaf=2, min_samples_split=5, n_estimators=447; total time=   0.7s\n",
      "[CV] END max_depth=35, max_features=sqrt, min_samples_leaf=2, min_samples_split=5, n_estimators=447; total time=   0.6s\n",
      "[CV] END max_depth=35, max_features=sqrt, min_samples_leaf=2, min_samples_split=5, n_estimators=447; total time=   0.6s\n",
      "[CV] END max_depth=15, max_features=auto, min_samples_leaf=4, min_samples_split=3, n_estimators=342; total time=   0.5s\n",
      "[CV] END max_depth=15, max_features=auto, min_samples_leaf=4, min_samples_split=3, n_estimators=342; total time=   0.5s\n",
      "[CV] END max_depth=15, max_features=auto, min_samples_leaf=4, min_samples_split=3, n_estimators=342; total time=   0.5s\n",
      "[CV] END max_depth=25, max_features=sqrt, min_samples_leaf=1, min_samples_split=5, n_estimators=405; total time=   0.6s\n",
      "[CV] END max_depth=25, max_features=sqrt, min_samples_leaf=1, min_samples_split=5, n_estimators=405; total time=   0.6s\n",
      "[CV] END max_depth=25, max_features=sqrt, min_samples_leaf=1, min_samples_split=5, n_estimators=405; total time=   0.6s\n",
      "[CV] END max_depth=18, max_features=sqrt, min_samples_leaf=1, min_samples_split=2, n_estimators=500; total time=   0.7s\n",
      "[CV] END max_depth=18, max_features=sqrt, min_samples_leaf=1, min_samples_split=2, n_estimators=500; total time=   0.9s\n",
      "[CV] END max_depth=18, max_features=sqrt, min_samples_leaf=1, min_samples_split=2, n_estimators=500; total time=   0.7s\n",
      "[CV] END max_depth=25, max_features=sqrt, min_samples_leaf=2, min_samples_split=3, n_estimators=310; total time=   0.5s\n",
      "[CV] END max_depth=25, max_features=sqrt, min_samples_leaf=2, min_samples_split=3, n_estimators=310; total time=   0.4s\n",
      "[CV] END max_depth=25, max_features=sqrt, min_samples_leaf=2, min_samples_split=3, n_estimators=310; total time=   0.5s\n",
      "[CV] END max_depth=21, max_features=sqrt, min_samples_leaf=1, min_samples_split=3, n_estimators=489; total time=   0.7s\n",
      "[CV] END max_depth=21, max_features=sqrt, min_samples_leaf=1, min_samples_split=3, n_estimators=489; total time=   0.7s\n",
      "[CV] END max_depth=21, max_features=sqrt, min_samples_leaf=1, min_samples_split=3, n_estimators=489; total time=   0.7s\n",
      "[CV] END max_depth=21, max_features=sqrt, min_samples_leaf=4, min_samples_split=2, n_estimators=457; total time=   0.6s\n",
      "[CV] END max_depth=21, max_features=sqrt, min_samples_leaf=4, min_samples_split=2, n_estimators=457; total time=   0.6s\n",
      "[CV] END max_depth=21, max_features=sqrt, min_samples_leaf=4, min_samples_split=2, n_estimators=457; total time=   0.6s\n",
      "[CV] END max_depth=21, max_features=auto, min_samples_leaf=1, min_samples_split=5, n_estimators=426; total time=   0.6s\n",
      "[CV] END max_depth=21, max_features=auto, min_samples_leaf=1, min_samples_split=5, n_estimators=426; total time=   0.6s\n",
      "[CV] END max_depth=21, max_features=auto, min_samples_leaf=1, min_samples_split=5, n_estimators=426; total time=   0.6s\n",
      "[CV] END max_depth=35, max_features=sqrt, min_samples_leaf=2, min_samples_split=5, n_estimators=426; total time=   0.6s\n",
      "[CV] END max_depth=35, max_features=sqrt, min_samples_leaf=2, min_samples_split=5, n_estimators=426; total time=   0.6s\n",
      "[CV] END max_depth=35, max_features=sqrt, min_samples_leaf=2, min_samples_split=5, n_estimators=426; total time=   0.6s\n",
      "[CV] END max_depth=15, max_features=auto, min_samples_leaf=4, min_samples_split=2, n_estimators=405; total time=   0.6s\n",
      "[CV] END max_depth=15, max_features=auto, min_samples_leaf=4, min_samples_split=2, n_estimators=405; total time=   0.6s\n",
      "[CV] END max_depth=15, max_features=auto, min_samples_leaf=4, min_samples_split=2, n_estimators=405; total time=   0.5s\n",
      "[CV] END max_depth=15, max_features=sqrt, min_samples_leaf=2, min_samples_split=5, n_estimators=468; total time=   0.6s\n",
      "[CV] END max_depth=15, max_features=sqrt, min_samples_leaf=2, min_samples_split=5, n_estimators=468; total time=   0.6s\n",
      "[CV] END max_depth=15, max_features=sqrt, min_samples_leaf=2, min_samples_split=5, n_estimators=468; total time=   0.7s\n",
      "[CV] END max_depth=31, max_features=sqrt, min_samples_leaf=1, min_samples_split=2, n_estimators=500; total time=   0.7s\n",
      "[CV] END max_depth=31, max_features=sqrt, min_samples_leaf=1, min_samples_split=2, n_estimators=500; total time=   0.7s\n",
      "[CV] END max_depth=31, max_features=sqrt, min_samples_leaf=1, min_samples_split=2, n_estimators=500; total time=   0.7s\n",
      "[CV] END max_depth=31, max_features=auto, min_samples_leaf=4, min_samples_split=2, n_estimators=415; total time=   0.5s\n",
      "[CV] END max_depth=31, max_features=auto, min_samples_leaf=4, min_samples_split=2, n_estimators=415; total time=   0.6s\n",
      "[CV] END max_depth=31, max_features=auto, min_samples_leaf=4, min_samples_split=2, n_estimators=415; total time=   0.6s\n"
     ]
    },
    {
     "data": {
      "text/plain": [
       "RandomizedSearchCV(cv=3,\n",
       "                   estimator=RandomForestClassifier(n_estimators=300,\n",
       "                                                    random_state=45),\n",
       "                   n_iter=50,\n",
       "                   param_distributions={'max_depth': [15, 18, 21, 25, 28, 31,\n",
       "                                                      35, None],\n",
       "                                        'max_features': ['auto', 'sqrt'],\n",
       "                                        'min_samples_leaf': [1, 2, 4],\n",
       "                                        'min_samples_split': [2, 3, 5],\n",
       "                                        'n_estimators': [300, 310, 321, 331,\n",
       "                                                         342, 352, 363, 373,\n",
       "                                                         384, 394, 405, 415,\n",
       "                                                         426, 436, 447, 457,\n",
       "                                                         468, 478, 489, 500]},\n",
       "                   random_state=45, verbose=2)"
      ]
     },
     "execution_count": 478,
     "metadata": {},
     "output_type": "execute_result"
    }
   ],
   "source": [
    "rf_random = RandomizedSearchCV(estimator = rf, param_distributions = random_grid, n_iter = 50, cv = 3, verbose=2, random_state=state)\n",
    "rf_random.fit(train_vars,train_results)\n"
   ]
  },
  {
   "cell_type": "code",
   "execution_count": 480,
   "metadata": {},
   "outputs": [],
   "source": [
    "rf=RandomForestClassifier(n_estimators=rf_random.best_params_['n_estimators'],min_samples_split=rf_random.best_params_['min_samples_split'],min_samples_leaf=rf_random.best_params_['min_samples_leaf'],max_features='sqrt',max_depth=28)\n",
    "rf.fit(train_vars,train_results)\n",
    "rf_predictions=rf.predict(test_vars)"
   ]
  },
  {
   "cell_type": "code",
   "execution_count": 481,
   "metadata": {},
   "outputs": [
    {
     "name": "stdout",
     "output_type": "stream",
     "text": [
      "RMSE: 0.6650621717611762\n",
      "R2: -0.771851851851852\n",
      "MAE: 0.4423076923076923\n",
      "AccuracyScore0.5576923076923077\n"
     ]
    }
   ],
   "source": [
    "print(f'RMSE: {sqrt(mean_squared_error(test_results,rf_predictions))}')\n",
    "print(f'R2: {r2_score(test_results,rf_predictions)}')\n",
    "print(f'MAE: {mean_absolute_error(test_results,rf_predictions)}')\n",
    "print(f'AccuracyScore{accuracy_score(test_results,rf_predictions)}')"
   ]
  },
  {
   "cell_type": "code",
   "execution_count": null,
   "metadata": {},
   "outputs": [
    {
     "name": "stdout",
     "output_type": "stream",
     "text": [
      "Feature:X\n"
     ]
    },
    {
     "data": {
      "image/png": "[encoded data removed]",
      "text/plain": [
       "<Figure size 432x288 with 1 Axes>"
      ]
     },
     "metadata": {
      "needs_background": "light"
     },
     "output_type": "display_data"
    },
    {
     "name": "stdout",
     "output_type": "stream",
     "text": [
      "Feature:Y\n"
     ]
    },
    {
     "data": {
      "image/png": "[encoded data removed]",
      "text/plain": [
       "<Figure size 432x288 with 1 Axes>"
      ]
     },
     "metadata": {
      "needs_background": "light"
     },
     "output_type": "display_data"
    },
    {
     "name": "stdout",
     "output_type": "stream",
     "text": [
      "Feature:month\n"
     ]
    },
    {
     "data": {
      "image/png": "[encoded data removed]",
      "text/plain": [
       "<Figure size 432x288 with 1 Axes>"
      ]
     },
     "metadata": {
      "needs_background": "light"
     },
     "output_type": "display_data"
    },
    {
     "name": "stdout",
     "output_type": "stream",
     "text": [
      "Feature:wind\n"
     ]
    },
    {
     "data": {
      "image/png": "[encoded data removed]",
      "text/plain": [
       "<Figure size 432x288 with 1 Axes>"
      ]
     },
     "metadata": {
      "needs_background": "light"
     },
     "output_type": "display_data"
    },
    {
     "name": "stdout",
     "output_type": "stream",
     "text": [
      "Feature:rain\n"
     ]
    },
    {
     "data": {
      "image/png": "[encoded data removed]",
      "text/plain": [
       "<Figure size 432x288 with 1 Axes>"
      ]
     },
     "metadata": {
      "needs_background": "light"
     },
     "output_type": "display_data"
    }
   ],
   "source": [
    "for feature in test_vars.columns:\n",
    "    print(f'Feature:{feature}')\n",
    "    plt.clf()\n",
    "    plt.scatter(test_vars[feature],test_results,s=120)\n",
    "    plt.scatter(test_vars[feature], rf_predictions, c=\"red\")\n",
    "    plt.show()"
   ]
  }
 ],
 "metadata": {
  "interpreter": {
   "hash": "916dbcbb3f70747c44a77c7bcd40155683ae19c65e1c03b4aa3499c5328201f1"
  },
  "kernelspec": {
   "display_name": "Python 3.8.10 64-bit",
   "name": "python3"
  },
  "language_info": {
   "codemirror_mode": {
    "name": "ipython",
    "version": 3
   },
   "file_extension": ".py",
   "mimetype": "text/x-python",
   "name": "python",
   "nbconvert_exporter": "python",
   "pygments_lexer": "ipython3",
   "version": "3.8.10"
  },
  "orig_nbformat": 4
 },
 "nbformat": 4,
 "nbformat_minor": 2
}
