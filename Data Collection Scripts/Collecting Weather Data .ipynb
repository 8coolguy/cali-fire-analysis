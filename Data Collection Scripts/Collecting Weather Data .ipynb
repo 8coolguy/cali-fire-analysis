{
 "cells": [
  {
   "cell_type": "code",
   "execution_count": 3,
   "metadata": {},
   "outputs": [],
   "source": [
    "import requests \n",
    "import pandas as pd\n",
    "\n",
    "ak =''"
   ]
  },
  {
   "cell_type": "code",
   "execution_count": 4,
   "metadata": {},
   "outputs": [],
   "source": [
    "df=pd.read_csv(\"fire_data.csv\")\n",
    "\n",
    "df.incident_date_extinguished=pd.to_datetime(df.incident_date_extinguished)\n",
    "df.incident_dateonly_created=pd.to_datetime(df.incident_dateonly_created)\n",
    "df.incident_dateonly_extinguished=pd.to_datetime(df.incident_dateonly_extinguished)\n",
    "df.incident_date_created=pd.to_datetime(df.incident_date_created)"
   ]
  },
  {
   "cell_type": "code",
   "execution_count": null,
   "metadata": {},
   "outputs": [],
   "source": [
    "for i in range(len(df)):\n",
    "    param ={\n",
    "        'access_key': ak,\n",
    "        'query':df.iloc[i].incident_county,\n",
    "        'historical date':df.iloc[i].incident_dateonly_created,\n",
    "        'interval':'24'\n",
    "    }\n",
    "    print(param)\n",
    "    "
   ]
  },
  {
   "cell_type": "code",
   "execution_count": null,
   "metadata": {},
   "outputs": [],
   "source": [
    "param ={\n",
    "    \"access_key\":ak,\n",
    "    'query':'New York',\n",
    "    'historical date':'2015-01-23',\n",
    "    'interval':'24'\n",
    "}\n",
    "api_result =requests.get('http://api.weatherstack.com/historical/)\n",
    "api_response =api_result.json()\n",
    "print(api_response)"
   ]
  },
  {
   "cell_type": "code",
   "execution_count": null,
   "metadata": {},
   "outputs": [],
   "source": [
    "param ={\n",
    "  \"39.7456,-97.0892\"\n",
    "}\n",
    "api_result =requests.get('https://api.weather.gov/points/39.7456,-97.0892')\n",
    "api_response =api_result.json()\n",
    "print(api_response)"
   ]
  },
  {
   "cell_type": "code",
   "execution_count": null,
   "metadata": {},
   "outputs": [],
   "source": []
  }
 ],
 "metadata": {
  "kernelspec": {
   "display_name": "Python 3",
   "language": "python",
   "name": "python3"
  },
  "language_info": {
   "codemirror_mode": {
    "name": "ipython",
    "version": 3
   },
   "file_extension": ".py",
   "mimetype": "text/x-python",
   "name": "python",
   "nbconvert_exporter": "python",
   "pygments_lexer": "ipython3",
   "version": "3.8.3"
  }
 },
 "nbformat": 4,
 "nbformat_minor": 4
}
