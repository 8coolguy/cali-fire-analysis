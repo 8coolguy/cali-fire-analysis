{
 "cells": [
  {
   "cell_type": "code",
   "execution_count": 6,
   "source": [
    "import pandas as pd\n",
    "import numpy as np\n",
    "import matplotlib.pyplot as plt"
   ],
   "outputs": [],
   "metadata": {}
  },
  {
   "cell_type": "markdown",
   "source": [
    "## **Cleaning up the data**  "
   ],
   "metadata": {}
  },
  {
   "cell_type": "code",
   "execution_count": 7,
   "source": [
    "def outputCheck(df):\n",
    "    if(df.columns.size >0):\n",
    "        print(\"■■■■■ Pass■■■■■\")           \n",
    "    else:\n",
    "        print(\"Error the dataframe is empty or null\")"
   ],
   "outputs": [],
   "metadata": {}
  },
  {
   "cell_type": "code",
   "execution_count": 45,
   "source": [
    "df =pd.read_csv(\"data/new_fire_weather_data.csv\")\n",
    "\n",
    "outputCheck(df)\n",
    "#df =df.drop(columns=[\"Unnamed: 0\"])\n",
    "df.head"
   ],
   "outputs": [
    {
     "output_type": "stream",
     "name": "stdout",
     "text": [
      "■■■■■ Pass■■■■■\n"
     ]
    },
    {
     "output_type": "execute_result",
     "data": {
      "text/plain": [
       "<bound method NDFrame.head of       Unnamed: 0     incident_name incident_date_created  \\\n",
       "0              0       Bridge Fire   2017-10-31 11:22:00   \n",
       "1              1     Fawnskin Fire   2013-04-20 17:30:00   \n",
       "2              2         Gold Fire   2013-04-30 12:59:00   \n",
       "3              3    Silverado Fire   2013-04-30 23:44:00   \n",
       "4              4       Yellow Fire   2013-05-01 02:01:00   \n",
       "...          ...               ...                   ...   \n",
       "1261        1261       Sheep Fire    2020-08-22 22:02:57   \n",
       "1262        1262        Hobo Fire    2020-09-01 09:37:58   \n",
       "1263        1263          Oak Fire   2020-09-07 13:26:45   \n",
       "1264        1264       Willow Fire   2020-09-09 06:04:43   \n",
       "1265        1265  Schoolhouse Fire   2020-09-09 15:59:31   \n",
       "\n",
       "                           incident_administrative_unit incident_county  \\\n",
       "0                       Shasta-Trinity National Forest           Shasta   \n",
       "1                        San Bernardino National Forest  San Bernardino   \n",
       "2                  CAL FIRE Madera-Mariposa-Merced Unit          Madera   \n",
       "3                        CAL FIRE Sonoma-Lake-Napa Unit            Napa   \n",
       "4                        CAL FIRE Sonoma-Lake-Napa Unit          Sonoma   \n",
       "...                                                 ...             ...   \n",
       "1261  Unified Command: Plumas National Forest, Lasse...          Plumas   \n",
       "1262                    Shasta Trinity National Forest          Trinity   \n",
       "1263                        CAL FIRE MEU Mendocino Unit       Mendocino   \n",
       "1264                  CAL FIRE Nevada-Yuba-Placer Unit             Yuba   \n",
       "1265                             CAL FIRE Siskiyou Unit        Siskiyou   \n",
       "\n",
       "                                      incident_location  \\\n",
       "0     I-5 and Turntable Bay, 7 miles NE of Shasta Lake    \n",
       "1     west of Delamar Mountain, north of the communi...   \n",
       "2     Between Road 210 and Road 200 near Fine Gold C...   \n",
       "3          7300 block of Silverado Trail, north of Napa   \n",
       "4     Hwy 128 & Yellow Jacket Ranch Rd in Knights Va...   \n",
       "...                                                 ...   \n",
       "1261  Gold Run Road, Southwest of Susanville in Plum...   \n",
       "1262  East Fork Rd and Barney Gulch Rd, north of Helena   \n",
       "1263  West of Highway 101--Big John Road & Skyview R...   \n",
       "1264  Neptune Lane and Willow Glen Road, North of Sm...   \n",
       "1265            Schoolhouse Gap Rd And McAdams Creek Rd   \n",
       "\n",
       "      incident_acres_burned  \\\n",
       "0                        37   \n",
       "1                        30   \n",
       "2                       274   \n",
       "3                        75   \n",
       "4                       125   \n",
       "...                     ...   \n",
       "1261                  29570   \n",
       "1262                      0   \n",
       "1263                   1100   \n",
       "1264                   1311   \n",
       "1265                     45   \n",
       "\n",
       "                          incident_cooperating_agencies  incident_longitude  \\\n",
       "0                       Shasta-Trinity National Forest          -122.309000   \n",
       "1                        San Bernardino National Forest         -116.941311   \n",
       "2                  CAL FIRE Madera-Mariposa-Merced Unit         -119.635004   \n",
       "3                        CAL FIRE Sonoma-Lake-Napa Unit         -122.350844   \n",
       "4                        CAL FIRE Sonoma-Lake-Napa Unit         -122.655616   \n",
       "...                                                 ...                 ...   \n",
       "1261                             Plumas National Forest         -120.757000   \n",
       "1262                     Shasta Trinity National Forest         -123.124610   \n",
       "1263  CAL FIRE Mendocino Unit , Cooperating Agencies...         -123.396500   \n",
       "1264  Cooperating Agencies: CHP, LINDA FIRE, BEALE A...         -121.323610   \n",
       "1265                             CAL FIRE Siskiyou Unit         -122.840570   \n",
       "\n",
       "      incident_latitude  ... Max Temperature Avg Temperature Min Temperature  \\\n",
       "0             40.774000  ...           70.57           59.01           48.43   \n",
       "1             34.288877  ...           72.71           65.26           51.57   \n",
       "2             37.116295  ...           92.00           77.98           63.29   \n",
       "3             38.441792  ...           88.71           65.77           47.00   \n",
       "4             38.638828  ...           88.71           65.77           47.00   \n",
       "...                 ...  ...             ...             ...             ...   \n",
       "1261          40.274000  ...           98.14           83.60           59.29   \n",
       "1262          40.821260  ...          101.29           84.03           66.86   \n",
       "1263          39.493500  ...           87.29           67.07           55.14   \n",
       "1264          39.363700  ...           90.86           76.00           63.71   \n",
       "1265          41.682290  ...           91.14           72.86           57.29   \n",
       "\n",
       "      Dew Point  Precipitation  Snowdepth  Wind  Gust Wind  \\\n",
       "0         44.86           0.02        0.0  5.52       2.84   \n",
       "1         27.11           0.00        0.0  6.40       4.59   \n",
       "2         40.10           0.00        0.0  6.08       0.60   \n",
       "3         39.54           0.00        0.0  5.01       2.21   \n",
       "4         39.54           0.00        0.0  5.01       2.21   \n",
       "...         ...            ...        ...   ...        ...   \n",
       "1261      51.48           0.01        0.0  4.58       0.00   \n",
       "1262      52.06           0.00        0.0  5.10       2.65   \n",
       "1263      51.73           0.00        0.0  2.73       0.51   \n",
       "1264      53.65           0.00        0.0  5.98       2.70   \n",
       "1265      35.52           0.00        0.0  4.18       2.36   \n",
       "\n",
       "      Sea Level Pressure    elevation  \n",
       "0                  29.36   341.285980  \n",
       "1                  28.74  2411.368408  \n",
       "2                  29.51   484.616089  \n",
       "3                  29.72    66.241211  \n",
       "4                  29.72   255.670990  \n",
       "...                  ...          ...  \n",
       "1261               29.11  1614.909912  \n",
       "1262               29.34   508.523529  \n",
       "1263               29.72   588.767822  \n",
       "1264               29.80   402.864044  \n",
       "1265               28.57   972.013062  \n",
       "\n",
       "[1266 rows x 23 columns]>"
      ]
     },
     "metadata": {},
     "execution_count": 45
    }
   ],
   "metadata": {
    "scrolled": true
   }
  },
  {
   "cell_type": "code",
   "execution_count": 9,
   "source": [
    "#df.to_csv(\"fire_weather_data.csv\",index=False)\n",
    "#nand=[]\n",
    "#for i in range(len(df)-1,-1,-1):\n",
    "#    for ele in df.iloc[i]:\n",
    "#        if str(ele)== \"nan\":\n",
    "#            df=df.drop(df.index[i])\n",
    "#           break\n"
   ],
   "outputs": [],
   "metadata": {}
  },
  {
   "cell_type": "code",
   "execution_count": 32,
   "source": [
    "#df =df.drop(columns=[\"Unnamed: 0\",\"Unnamed: 0.1\",\"Unnamed: 0.1.1\",\"Unnamed: 0.1.1.1\",\"Unnamed: 0.1.1.1.1\"])"
   ],
   "outputs": [],
   "metadata": {}
  },
  {
   "cell_type": "code",
   "execution_count": 42,
   "source": [
    "#dont need after first run\n",
    "df.to_csv(\"data/new_fire_weather_data.csv\")"
   ],
   "outputs": [],
   "metadata": {}
  },
  {
   "cell_type": "code",
   "execution_count": 11,
   "source": [
    "from sklearn.model_selection import train_test_split\n",
    "from sklearn import linear_model\n",
    "from sklearn.metrics import mean_squared_error, r2_score"
   ],
   "outputs": [],
   "metadata": {}
  },
  {
   "cell_type": "markdown",
   "source": [
    "## **Creating a linear model**"
   ],
   "metadata": {}
  },
  {
   "cell_type": "code",
   "execution_count": 12,
   "source": [
    "outputCheck(df)\n",
    "df =df[df.incident_acres_burned>100]\n",
    "df =df[ df.incident_acres_burned <200000]\n",
    "df"
   ],
   "outputs": [
    {
     "output_type": "stream",
     "name": "stdout",
     "text": [
      "■■■■■ Pass■■■■■\n"
     ]
    },
    {
     "output_type": "execute_result",
     "data": {
      "text/html": [
       "<div>\n",
       "<style scoped>\n",
       "    .dataframe tbody tr th:only-of-type {\n",
       "        vertical-align: middle;\n",
       "    }\n",
       "\n",
       "    .dataframe tbody tr th {\n",
       "        vertical-align: top;\n",
       "    }\n",
       "\n",
       "    .dataframe thead th {\n",
       "        text-align: right;\n",
       "    }\n",
       "</style>\n",
       "<table border=\"1\" class=\"dataframe\">\n",
       "  <thead>\n",
       "    <tr style=\"text-align: right;\">\n",
       "      <th></th>\n",
       "      <th>Unnamed: 0</th>\n",
       "      <th>Unnamed: 0.1</th>\n",
       "      <th>Unnamed: 0.1.1</th>\n",
       "      <th>Unnamed: 0.1.1.1</th>\n",
       "      <th>incident_name</th>\n",
       "      <th>incident_date_created</th>\n",
       "      <th>incident_administrative_unit</th>\n",
       "      <th>incident_county</th>\n",
       "      <th>incident_location</th>\n",
       "      <th>incident_acres_burned</th>\n",
       "      <th>...</th>\n",
       "      <th>Max Temperature</th>\n",
       "      <th>Avg Temperature</th>\n",
       "      <th>Min Temperature</th>\n",
       "      <th>Dew Point</th>\n",
       "      <th>Precipitation</th>\n",
       "      <th>Snowdepth</th>\n",
       "      <th>Wind</th>\n",
       "      <th>Gust Wind</th>\n",
       "      <th>Sea Level Pressure</th>\n",
       "      <th>elevation</th>\n",
       "    </tr>\n",
       "  </thead>\n",
       "  <tbody>\n",
       "    <tr>\n",
       "      <th>2</th>\n",
       "      <td>2</td>\n",
       "      <td>2</td>\n",
       "      <td>2</td>\n",
       "      <td>4</td>\n",
       "      <td>Gold Fire</td>\n",
       "      <td>2013-04-30 12:59:00</td>\n",
       "      <td>CAL FIRE Madera-Mariposa-Merced Unit</td>\n",
       "      <td>Madera</td>\n",
       "      <td>Between Road 210 and Road 200 near Fine Gold C...</td>\n",
       "      <td>274</td>\n",
       "      <td>...</td>\n",
       "      <td>92.00</td>\n",
       "      <td>77.98</td>\n",
       "      <td>63.29</td>\n",
       "      <td>40.10</td>\n",
       "      <td>0.00</td>\n",
       "      <td>0.0</td>\n",
       "      <td>6.08</td>\n",
       "      <td>0.60</td>\n",
       "      <td>29.51</td>\n",
       "      <td>484.616089</td>\n",
       "    </tr>\n",
       "    <tr>\n",
       "      <th>4</th>\n",
       "      <td>4</td>\n",
       "      <td>4</td>\n",
       "      <td>4</td>\n",
       "      <td>7</td>\n",
       "      <td>Yellow Fire</td>\n",
       "      <td>2013-05-01 02:01:00</td>\n",
       "      <td>CAL FIRE Sonoma-Lake-Napa Unit</td>\n",
       "      <td>Sonoma</td>\n",
       "      <td>Hwy 128 &amp; Yellow Jacket Ranch Rd in Knights Va...</td>\n",
       "      <td>125</td>\n",
       "      <td>...</td>\n",
       "      <td>88.71</td>\n",
       "      <td>65.77</td>\n",
       "      <td>47.00</td>\n",
       "      <td>39.54</td>\n",
       "      <td>0.00</td>\n",
       "      <td>0.0</td>\n",
       "      <td>5.01</td>\n",
       "      <td>2.21</td>\n",
       "      <td>29.72</td>\n",
       "      <td>255.670990</td>\n",
       "    </tr>\n",
       "    <tr>\n",
       "      <th>5</th>\n",
       "      <td>5</td>\n",
       "      <td>5</td>\n",
       "      <td>5</td>\n",
       "      <td>8</td>\n",
       "      <td>Summit Fire</td>\n",
       "      <td>2013-05-01 12:38:00</td>\n",
       "      <td>CAL FIRE/Riverside County Fire</td>\n",
       "      <td>Riverside</td>\n",
       "      <td>Mias Canyon and Bluff Road in Banning</td>\n",
       "      <td>3166</td>\n",
       "      <td>...</td>\n",
       "      <td>87.14</td>\n",
       "      <td>75.65</td>\n",
       "      <td>55.29</td>\n",
       "      <td>35.28</td>\n",
       "      <td>0.00</td>\n",
       "      <td>0.0</td>\n",
       "      <td>5.59</td>\n",
       "      <td>1.54</td>\n",
       "      <td>28.67</td>\n",
       "      <td>2411.368408</td>\n",
       "    </tr>\n",
       "    <tr>\n",
       "      <th>6</th>\n",
       "      <td>6</td>\n",
       "      <td>6</td>\n",
       "      <td>6</td>\n",
       "      <td>9</td>\n",
       "      <td>Tres Pinos Fire</td>\n",
       "      <td>2013-05-03 11:42:00</td>\n",
       "      <td>CAL FIRE San Benito-Monterey</td>\n",
       "      <td>San Benito</td>\n",
       "      <td>Highway 25 and Horizon Rd, Community of Tres</td>\n",
       "      <td>354</td>\n",
       "      <td>...</td>\n",
       "      <td>85.14</td>\n",
       "      <td>69.29</td>\n",
       "      <td>55.71</td>\n",
       "      <td>41.68</td>\n",
       "      <td>0.00</td>\n",
       "      <td>0.0</td>\n",
       "      <td>6.71</td>\n",
       "      <td>1.42</td>\n",
       "      <td>29.84</td>\n",
       "      <td>24.833916</td>\n",
       "    </tr>\n",
       "    <tr>\n",
       "      <th>7</th>\n",
       "      <td>7</td>\n",
       "      <td>7</td>\n",
       "      <td>7</td>\n",
       "      <td>10</td>\n",
       "      <td>306 Fire</td>\n",
       "      <td>2013-05-01 19:00:00</td>\n",
       "      <td>CAL FIRE Tehama-Glenn Unit</td>\n",
       "      <td>Glenn</td>\n",
       "      <td>2 miles south of the community of Elk Creek</td>\n",
       "      <td>217</td>\n",
       "      <td>...</td>\n",
       "      <td>87.00</td>\n",
       "      <td>73.86</td>\n",
       "      <td>60.86</td>\n",
       "      <td>27.52</td>\n",
       "      <td>0.00</td>\n",
       "      <td>0.0</td>\n",
       "      <td>11.47</td>\n",
       "      <td>9.79</td>\n",
       "      <td>29.41</td>\n",
       "      <td>526.162109</td>\n",
       "    </tr>\n",
       "    <tr>\n",
       "      <th>...</th>\n",
       "      <td>...</td>\n",
       "      <td>...</td>\n",
       "      <td>...</td>\n",
       "      <td>...</td>\n",
       "      <td>...</td>\n",
       "      <td>...</td>\n",
       "      <td>...</td>\n",
       "      <td>...</td>\n",
       "      <td>...</td>\n",
       "      <td>...</td>\n",
       "      <td>...</td>\n",
       "      <td>...</td>\n",
       "      <td>...</td>\n",
       "      <td>...</td>\n",
       "      <td>...</td>\n",
       "      <td>...</td>\n",
       "      <td>...</td>\n",
       "      <td>...</td>\n",
       "      <td>...</td>\n",
       "      <td>...</td>\n",
       "      <td>...</td>\n",
       "    </tr>\n",
       "    <tr>\n",
       "      <th>1259</th>\n",
       "      <td>1259</td>\n",
       "      <td>1259</td>\n",
       "      <td>1259</td>\n",
       "      <td>1646</td>\n",
       "      <td>Creek Fire</td>\n",
       "      <td>2020-08-18 17:58:52</td>\n",
       "      <td>CAL FIRE Mendocino Unit</td>\n",
       "      <td>Mendocino</td>\n",
       "      <td>Covelo, Highway 162 and Short Creek Rd</td>\n",
       "      <td>820</td>\n",
       "      <td>...</td>\n",
       "      <td>98.14</td>\n",
       "      <td>83.60</td>\n",
       "      <td>59.29</td>\n",
       "      <td>51.48</td>\n",
       "      <td>0.01</td>\n",
       "      <td>0.0</td>\n",
       "      <td>4.58</td>\n",
       "      <td>0.00</td>\n",
       "      <td>29.11</td>\n",
       "      <td>418.601074</td>\n",
       "    </tr>\n",
       "    <tr>\n",
       "      <th>1260</th>\n",
       "      <td>1260</td>\n",
       "      <td>1260</td>\n",
       "      <td>1260</td>\n",
       "      <td>1648</td>\n",
       "      <td>Moc Fire</td>\n",
       "      <td>2020-08-20 14:26:08</td>\n",
       "      <td>CAL FIRE Tuolumne-Calaveras Unit and Central C...</td>\n",
       "      <td>Tuolumne</td>\n",
       "      <td>Hwy 49 and Hwy 120, Moccasin</td>\n",
       "      <td>2857</td>\n",
       "      <td>...</td>\n",
       "      <td>102.57</td>\n",
       "      <td>87.41</td>\n",
       "      <td>73.14</td>\n",
       "      <td>55.08</td>\n",
       "      <td>0.00</td>\n",
       "      <td>0.0</td>\n",
       "      <td>8.25</td>\n",
       "      <td>1.08</td>\n",
       "      <td>29.80</td>\n",
       "      <td>293.668060</td>\n",
       "    </tr>\n",
       "    <tr>\n",
       "      <th>1261</th>\n",
       "      <td>1261</td>\n",
       "      <td>1261</td>\n",
       "      <td>1261</td>\n",
       "      <td>1651</td>\n",
       "      <td>Sheep Fire</td>\n",
       "      <td>2020-08-22 22:02:57</td>\n",
       "      <td>Unified Command: Plumas National Forest, Lasse...</td>\n",
       "      <td>Plumas</td>\n",
       "      <td>Gold Run Road, Southwest of Susanville in Plum...</td>\n",
       "      <td>29570</td>\n",
       "      <td>...</td>\n",
       "      <td>98.14</td>\n",
       "      <td>83.60</td>\n",
       "      <td>59.29</td>\n",
       "      <td>51.48</td>\n",
       "      <td>0.01</td>\n",
       "      <td>0.0</td>\n",
       "      <td>4.58</td>\n",
       "      <td>0.00</td>\n",
       "      <td>29.11</td>\n",
       "      <td>1614.909912</td>\n",
       "    </tr>\n",
       "    <tr>\n",
       "      <th>1263</th>\n",
       "      <td>1263</td>\n",
       "      <td>1263</td>\n",
       "      <td>1263</td>\n",
       "      <td>1659</td>\n",
       "      <td>Oak Fire</td>\n",
       "      <td>2020-09-07 13:26:45</td>\n",
       "      <td>CAL FIRE MEU Mendocino Unit</td>\n",
       "      <td>Mendocino</td>\n",
       "      <td>West of Highway 101--Big John Road &amp; Skyview R...</td>\n",
       "      <td>1100</td>\n",
       "      <td>...</td>\n",
       "      <td>87.29</td>\n",
       "      <td>67.07</td>\n",
       "      <td>55.14</td>\n",
       "      <td>51.73</td>\n",
       "      <td>0.00</td>\n",
       "      <td>0.0</td>\n",
       "      <td>2.73</td>\n",
       "      <td>0.51</td>\n",
       "      <td>29.72</td>\n",
       "      <td>588.767822</td>\n",
       "    </tr>\n",
       "    <tr>\n",
       "      <th>1264</th>\n",
       "      <td>1264</td>\n",
       "      <td>1264</td>\n",
       "      <td>1264</td>\n",
       "      <td>1660</td>\n",
       "      <td>Willow Fire</td>\n",
       "      <td>2020-09-09 06:04:43</td>\n",
       "      <td>CAL FIRE Nevada-Yuba-Placer Unit</td>\n",
       "      <td>Yuba</td>\n",
       "      <td>Neptune Lane and Willow Glen Road, North of Sm...</td>\n",
       "      <td>1311</td>\n",
       "      <td>...</td>\n",
       "      <td>90.86</td>\n",
       "      <td>76.00</td>\n",
       "      <td>63.71</td>\n",
       "      <td>53.65</td>\n",
       "      <td>0.00</td>\n",
       "      <td>0.0</td>\n",
       "      <td>5.98</td>\n",
       "      <td>2.70</td>\n",
       "      <td>29.80</td>\n",
       "      <td>402.864044</td>\n",
       "    </tr>\n",
       "  </tbody>\n",
       "</table>\n",
       "<p>614 rows × 26 columns</p>\n",
       "</div>"
      ],
      "text/plain": [
       "      Unnamed: 0  Unnamed: 0.1  Unnamed: 0.1.1  Unnamed: 0.1.1.1  \\\n",
       "2              2             2               2                 4   \n",
       "4              4             4               4                 7   \n",
       "5              5             5               5                 8   \n",
       "6              6             6               6                 9   \n",
       "7              7             7               7                10   \n",
       "...          ...           ...             ...               ...   \n",
       "1259        1259          1259            1259              1646   \n",
       "1260        1260          1260            1260              1648   \n",
       "1261        1261          1261            1261              1651   \n",
       "1263        1263          1263            1263              1659   \n",
       "1264        1264          1264            1264              1660   \n",
       "\n",
       "        incident_name incident_date_created  \\\n",
       "2           Gold Fire   2013-04-30 12:59:00   \n",
       "4         Yellow Fire   2013-05-01 02:01:00   \n",
       "5         Summit Fire   2013-05-01 12:38:00   \n",
       "6     Tres Pinos Fire   2013-05-03 11:42:00   \n",
       "7            306 Fire   2013-05-01 19:00:00   \n",
       "...               ...                   ...   \n",
       "1259       Creek Fire   2020-08-18 17:58:52   \n",
       "1260         Moc Fire   2020-08-20 14:26:08   \n",
       "1261      Sheep Fire    2020-08-22 22:02:57   \n",
       "1263         Oak Fire   2020-09-07 13:26:45   \n",
       "1264      Willow Fire   2020-09-09 06:04:43   \n",
       "\n",
       "                           incident_administrative_unit incident_county  \\\n",
       "2                  CAL FIRE Madera-Mariposa-Merced Unit          Madera   \n",
       "4                        CAL FIRE Sonoma-Lake-Napa Unit          Sonoma   \n",
       "5                       CAL FIRE/Riverside County Fire        Riverside   \n",
       "6                         CAL FIRE San Benito-Monterey       San Benito   \n",
       "7                            CAL FIRE Tehama-Glenn Unit           Glenn   \n",
       "...                                                 ...             ...   \n",
       "1259                            CAL FIRE Mendocino Unit       Mendocino   \n",
       "1260  CAL FIRE Tuolumne-Calaveras Unit and Central C...        Tuolumne   \n",
       "1261  Unified Command: Plumas National Forest, Lasse...          Plumas   \n",
       "1263                        CAL FIRE MEU Mendocino Unit       Mendocino   \n",
       "1264                  CAL FIRE Nevada-Yuba-Placer Unit             Yuba   \n",
       "\n",
       "                                      incident_location  \\\n",
       "2     Between Road 210 and Road 200 near Fine Gold C...   \n",
       "4     Hwy 128 & Yellow Jacket Ranch Rd in Knights Va...   \n",
       "5                 Mias Canyon and Bluff Road in Banning   \n",
       "6         Highway 25 and Horizon Rd, Community of Tres    \n",
       "7           2 miles south of the community of Elk Creek   \n",
       "...                                                 ...   \n",
       "1259             Covelo, Highway 162 and Short Creek Rd   \n",
       "1260                       Hwy 49 and Hwy 120, Moccasin   \n",
       "1261  Gold Run Road, Southwest of Susanville in Plum...   \n",
       "1263  West of Highway 101--Big John Road & Skyview R...   \n",
       "1264  Neptune Lane and Willow Glen Road, North of Sm...   \n",
       "\n",
       "      incident_acres_burned  ... Max Temperature  Avg Temperature  \\\n",
       "2                       274  ...           92.00            77.98   \n",
       "4                       125  ...           88.71            65.77   \n",
       "5                      3166  ...           87.14            75.65   \n",
       "6                       354  ...           85.14            69.29   \n",
       "7                       217  ...           87.00            73.86   \n",
       "...                     ...  ...             ...              ...   \n",
       "1259                    820  ...           98.14            83.60   \n",
       "1260                   2857  ...          102.57            87.41   \n",
       "1261                  29570  ...           98.14            83.60   \n",
       "1263                   1100  ...           87.29            67.07   \n",
       "1264                   1311  ...           90.86            76.00   \n",
       "\n",
       "      Min Temperature Dew Point Precipitation Snowdepth   Wind  Gust Wind  \\\n",
       "2               63.29     40.10          0.00       0.0   6.08       0.60   \n",
       "4               47.00     39.54          0.00       0.0   5.01       2.21   \n",
       "5               55.29     35.28          0.00       0.0   5.59       1.54   \n",
       "6               55.71     41.68          0.00       0.0   6.71       1.42   \n",
       "7               60.86     27.52          0.00       0.0  11.47       9.79   \n",
       "...               ...       ...           ...       ...    ...        ...   \n",
       "1259            59.29     51.48          0.01       0.0   4.58       0.00   \n",
       "1260            73.14     55.08          0.00       0.0   8.25       1.08   \n",
       "1261            59.29     51.48          0.01       0.0   4.58       0.00   \n",
       "1263            55.14     51.73          0.00       0.0   2.73       0.51   \n",
       "1264            63.71     53.65          0.00       0.0   5.98       2.70   \n",
       "\n",
       "      Sea Level Pressure    elevation  \n",
       "2                  29.51   484.616089  \n",
       "4                  29.72   255.670990  \n",
       "5                  28.67  2411.368408  \n",
       "6                  29.84    24.833916  \n",
       "7                  29.41   526.162109  \n",
       "...                  ...          ...  \n",
       "1259               29.11   418.601074  \n",
       "1260               29.80   293.668060  \n",
       "1261               29.11  1614.909912  \n",
       "1263               29.72   588.767822  \n",
       "1264               29.80   402.864044  \n",
       "\n",
       "[614 rows x 26 columns]"
      ]
     },
     "metadata": {},
     "execution_count": 12
    }
   ],
   "metadata": {}
  },
  {
   "cell_type": "code",
   "execution_count": 13,
   "source": [
    "size=99\n",
    "state =45\n",
    "train_fire_x,test_fire_x,train_fire_target,test_fire_target=train_test_split(df.drop(columns=[\"Unnamed: 0\",\"incident_latitude\",\"incident_longitude\",\"incident_date_created\",\"incident_name\",\"incident_administrative_unit\",\"incident_county\",\"incident_location\",\"incident_cooperating_agencies\",\"incident_acres_burned\",\"incident_date_extinguished\",\"incident_dateonly_extinguished\",\"incident_dateonly_created\",\"Precipitation\",\"Snowdepth\",\"Sea Level Pressure\"]), df['incident_acres_burned'], test_size=1-size/100,random_state=state)\n",
    "outputCheck(train_fire_x)\n",
    "outputCheck(test_fire_x)\n",
    "test_fire_x\n",
    "test_fire_target\n"
   ],
   "outputs": [
    {
     "output_type": "stream",
     "name": "stdout",
     "text": [
      "■■■■■ Pass■■■■■\n",
      "■■■■■ Pass■■■■■\n"
     ]
    },
    {
     "output_type": "execute_result",
     "data": {
      "text/plain": [
       "827      300\n",
       "442      225\n",
       "113      163\n",
       "1157    8838\n",
       "612      135\n",
       "7        217\n",
       "89      8073\n",
       "Name: incident_acres_burned, dtype: int64"
      ]
     },
     "metadata": {},
     "execution_count": 13
    }
   ],
   "metadata": {}
  },
  {
   "cell_type": "code",
   "execution_count": 14,
   "source": [
    "regression_line =linear_model.LinearRegression()\n",
    "regression_line.fit(train_fire_x,train_fire_target)\n",
    "\n",
    "predictions =regression_line.predict(test_fire_x)"
   ],
   "outputs": [],
   "metadata": {}
  },
  {
   "cell_type": "code",
   "execution_count": 15,
   "source": [
    "tft=[y for y in test_fire_target]\n",
    "for i in range(len(tft)):\n",
    "    print(f'Prediction:{predictions[i]}--Answer:{tft[i]}')\n",
    "\n",
    "\n"
   ],
   "outputs": [
    {
     "output_type": "stream",
     "name": "stdout",
     "text": [
      "Prediction:1703.7496203733408--Answer:300\n",
      "Prediction:3131.881322101447--Answer:225\n",
      "Prediction:5785.278788395022--Answer:163\n",
      "Prediction:6543.494155950637--Answer:8838\n",
      "Prediction:4000.728081483938--Answer:135\n",
      "Prediction:5144.945589914415--Answer:217\n",
      "Prediction:4308.152500515073--Answer:8073\n"
     ]
    }
   ],
   "metadata": {}
  },
  {
   "cell_type": "code",
   "execution_count": 16,
   "source": [
    "print(mean_squared_error(tft,predictions))\n",
    "print(r2_score(tft,predictions))\n"
   ],
   "outputs": [
    {
     "output_type": "stream",
     "name": "stdout",
     "text": [
      "14385403.69882888\n",
      "-0.03298866862819527\n"
     ]
    }
   ],
   "metadata": {}
  },
  {
   "cell_type": "code",
   "execution_count": 17,
   "source": [
    "import matplotlib.pyplot as plt\n",
    "#i need to create comparisons between all the vars\n"
   ],
   "outputs": [],
   "metadata": {}
  },
  {
   "cell_type": "markdown",
   "source": [
    "## **Comparing the variables and the Outputs**"
   ],
   "metadata": {}
  },
  {
   "cell_type": "code",
   "execution_count": 18,
   "source": [
    "#most longitude and lats are very similar and not enough data to have accurate data for area in the specific coords\n",
    "arr=df.incident_longitude\n",
    "ans=df.incident_acres_burned\n",
    "#plotting it\n",
    "plt.scatter(arr,ans,color='Blue')\n",
    "#lables\n",
    "plt.xlabel(\"Longitude\")\n",
    "plt.ylabel(\"Acres Burned\")\n",
    "\n",
    "\n",
    "plt.show()"
   ],
   "outputs": [
    {
     "output_type": "display_data",
     "data": {
      "image/png": "[encoded data removed]",
      "text/plain": [
       "<Figure size 432x288 with 1 Axes>"
      ]
     },
     "metadata": {
      "needs_background": "light"
     }
    }
   ],
   "metadata": {}
  },
  {
   "cell_type": "code",
   "execution_count": 19,
   "source": [
    "arr=df.incident_latitude\n",
    "ans=df.incident_acres_burned\n",
    "#plotting it\n",
    "plt.scatter(arr,ans,color='Blue')\n",
    "#lables\n",
    "plt.xlabel(\"Latitude\")\n",
    "plt.ylabel(\"Acres Burned\")\n",
    "\n",
    "\n",
    "plt.show()"
   ],
   "outputs": [
    {
     "output_type": "display_data",
     "data": {
      "image/png": "[encoded data removed]",
      "text/plain": [
       "<Figure size 432x288 with 1 Axes>"
      ]
     },
     "metadata": {
      "needs_background": "light"
     }
    }
   ],
   "metadata": {}
  },
  {
   "cell_type": "code",
   "execution_count": 20,
   "source": [
    "arr=df[\"Sea Level Pressure\"]\n",
    "ans=df.incident_acres_burned\n",
    "#plotting it\n",
    "plt.scatter(arr,ans,color='Blue')\n",
    "#lables\n",
    "plt.xlabel(\"sea-level-pressure\")\n",
    "plt.ylabel(\"Acres Burned\")\n",
    "\n",
    "\n",
    "plt.show()"
   ],
   "outputs": [
    {
     "output_type": "display_data",
     "data": {
      "image/png": "[encoded data removed]",
      "text/plain": [
       "<Figure size 432x288 with 1 Axes>"
      ]
     },
     "metadata": {
      "needs_background": "light"
     }
    }
   ],
   "metadata": {}
  },
  {
   "cell_type": "code",
   "execution_count": 21,
   "source": [
    "arr=df[\"Wind\"]\n",
    "ans=df.incident_acres_burned\n",
    "#plotting it\n",
    "plt.scatter(arr,ans,color='Blue')\n",
    "#lables\n",
    "plt.xlabel(\"Wind\")\n",
    "plt.ylabel(\"Acres Burned\")\n",
    "\n",
    "\n",
    "plt.show()"
   ],
   "outputs": [
    {
     "output_type": "display_data",
     "data": {
      "image/png": "[encoded data removed]",
      "text/plain": [
       "<Figure size 432x288 with 1 Axes>"
      ]
     },
     "metadata": {
      "needs_background": "light"
     }
    }
   ],
   "metadata": {}
  },
  {
   "cell_type": "code",
   "execution_count": 22,
   "source": [
    "arr=df[\"Avg Temperature\"]\n",
    "ans=df.incident_acres_burned\n",
    "#plotting it\n",
    "plt.scatter(arr,ans,color='Blue')\n",
    "#lables\n",
    "plt.xlabel(\"Avg Temperature\")\n",
    "plt.ylabel(\"Acres Burned\")\n",
    "\n",
    "\n",
    "plt.show()"
   ],
   "outputs": [
    {
     "output_type": "display_data",
     "data": {
      "image/png": "[encoded data removed]",
      "text/plain": [
       "<Figure size 432x288 with 1 Axes>"
      ]
     },
     "metadata": {
      "needs_background": "light"
     }
    }
   ],
   "metadata": {}
  },
  {
   "cell_type": "code",
   "execution_count": 23,
   "source": [
    "arr=df.elevation\n",
    "ans=df.incident_acres_burned\n",
    "#plotting it\n",
    "plt.scatter(arr,ans,color='Blue')\n",
    "#lables\n",
    "plt.xlabel(\"Elevation\")\n",
    "plt.ylabel(\"Acres Burned\")\n",
    "\n",
    "\n",
    "plt.show()\n",
    "#fires usually do not grow to large sizes at higher elevations\n",
    "#most fires occured below 1500 meters\n",
    "#more info on how topography and altitude and day cycle affect fires is below\n",
    "# https://www.fs.fed.us/rm/pubs_exp_for/priest_river/exp_for_priest_river_1942_hayes02.pdf\n"
   ],
   "outputs": [
    {
     "output_type": "display_data",
     "data": {
      "image/png": "[encoded data removed]",
      "text/plain": [
       "<Figure size 432x288 with 1 Axes>"
      ]
     },
     "metadata": {
      "needs_background": "light"
     }
    }
   ],
   "metadata": {}
  },
  {
   "cell_type": "code",
   "execution_count": 24,
   "source": [
    "arr=df[\"Dew Point\"]\n",
    "ans=df.incident_acres_burned\n",
    "#plotting it\n",
    "plt.scatter(arr,ans,color='Blue')\n",
    "#lables\n",
    "plt.xlabel(\"Dew Point\")\n",
    "plt.ylabel(\"Acres Burned\")\n",
    "\n",
    "\n",
    "plt.show()\n",
    "#Dew Point is the atmospheric pressure that it takes for water drops to condense and form\n",
    "#dew point has an effect on the rate of fires because lowers can cause lower moistures in\n",
    "#fuels at the bottom of a forrest\n",
    "# https://www.dfes.wa.gov.au/waemergencyandriskmanagement/obrm/Documents/Relative-Humidity-and-Dew-Point-Information-Sheet.pdf\n",
    "#this does not exactly agree with my results it seems that between 60-30 most fires occur\n",
    "#the temperature also must be affected by air temperature and below 30ish its too cold for fires"
   ],
   "outputs": [
    {
     "output_type": "display_data",
     "data": {
      "image/png": "[encoded data removed]",
      "text/plain": [
       "<Figure size 432x288 with 1 Axes>"
      ]
     },
     "metadata": {
      "needs_background": "light"
     }
    }
   ],
   "metadata": {}
  },
  {
   "cell_type": "code",
   "execution_count": 25,
   "source": [
    "arr=df[\"Gust Wind\"]\n",
    "ans=df.incident_acres_burned\n",
    "#plotting it\n",
    "plt.scatter(arr,ans,color='Blue')\n",
    "#lables\n",
    "plt.xlabel(\"Gust Wind\")\n",
    "plt.ylabel(\"Acres Burned\")\n",
    "\n",
    "\n",
    "plt.show()\n",
    "#there is a consistent outlier of the thomas fire which occured in the winter time, but \n",
    "#gree to be one of the largest fires in  cali becasue of other codnitions\n",
    "#this fire has low dew point  and high winds\n",
    "# more info can be found below on the wiki  \n",
    "#  https://en.wikipedia.org/wiki/Thomas_Fire"
   ],
   "outputs": [
    {
     "output_type": "display_data",
     "data": {
      "image/png": "[encoded data removed]",
      "text/plain": [
       "<Figure size 432x288 with 1 Axes>"
      ]
     },
     "metadata": {
      "needs_background": "light"
     }
    }
   ],
   "metadata": {}
  },
  {
   "cell_type": "code",
   "execution_count": 26,
   "source": [
    "#graph of average fire size\n",
    "totalAcres=0\n",
    "average_fire=[]\n",
    "dates=[]\n",
    "print(df.sort_values(by=\"incident_date_created\").size)\n",
    "for i in range(df.sort_values(by=\"incident_date_created\").size):\n",
    "    if i ==0:\n",
    "        continue\n",
    "    if(i ==1265):\n",
    "        break\n",
    "\n",
    "    totalAcres+=df.sort_values(by=\"incident_date_created\").iloc[i].incident_acres_burned\n",
    "    average_fire.append(totalAcres/i)\n",
    "    dates.append(df.sort_values(by=\"incident_date_created\").iloc[i].incident_dateonly_created)\n",
    "average_fire[0].pop()\n",
    "dates[0].pop()\n"
   ],
   "outputs": [
    {
     "output_type": "stream",
     "name": "stdout",
     "text": [
      "15964\n"
     ]
    },
    {
     "output_type": "error",
     "ename": "IndexError",
     "evalue": "single positional indexer is out-of-bounds",
     "traceback": [
      "\u001b[0;31m---------------------------------------------------------------------------\u001b[0m",
      "\u001b[0;31mIndexError\u001b[0m                                Traceback (most recent call last)",
      "\u001b[0;32m<ipython-input-26-fa4970c55d4a>\u001b[0m in \u001b[0;36m<module>\u001b[0;34m\u001b[0m\n\u001b[1;32m     10\u001b[0m         \u001b[0;32mbreak\u001b[0m\u001b[0;34m\u001b[0m\u001b[0;34m\u001b[0m\u001b[0m\n\u001b[1;32m     11\u001b[0m \u001b[0;34m\u001b[0m\u001b[0m\n\u001b[0;32m---> 12\u001b[0;31m     \u001b[0mtotalAcres\u001b[0m\u001b[0;34m+=\u001b[0m\u001b[0mdf\u001b[0m\u001b[0;34m.\u001b[0m\u001b[0msort_values\u001b[0m\u001b[0;34m(\u001b[0m\u001b[0mby\u001b[0m\u001b[0;34m=\u001b[0m\u001b[0;34m\"incident_date_created\"\u001b[0m\u001b[0;34m)\u001b[0m\u001b[0;34m.\u001b[0m\u001b[0miloc\u001b[0m\u001b[0;34m[\u001b[0m\u001b[0mi\u001b[0m\u001b[0;34m]\u001b[0m\u001b[0;34m.\u001b[0m\u001b[0mincident_acres_burned\u001b[0m\u001b[0;34m\u001b[0m\u001b[0;34m\u001b[0m\u001b[0m\n\u001b[0m\u001b[1;32m     13\u001b[0m     \u001b[0maverage_fire\u001b[0m\u001b[0;34m.\u001b[0m\u001b[0mappend\u001b[0m\u001b[0;34m(\u001b[0m\u001b[0mtotalAcres\u001b[0m\u001b[0;34m/\u001b[0m\u001b[0mi\u001b[0m\u001b[0;34m)\u001b[0m\u001b[0;34m\u001b[0m\u001b[0;34m\u001b[0m\u001b[0m\n\u001b[1;32m     14\u001b[0m     \u001b[0mdates\u001b[0m\u001b[0;34m.\u001b[0m\u001b[0mappend\u001b[0m\u001b[0;34m(\u001b[0m\u001b[0mdf\u001b[0m\u001b[0;34m.\u001b[0m\u001b[0msort_values\u001b[0m\u001b[0;34m(\u001b[0m\u001b[0mby\u001b[0m\u001b[0;34m=\u001b[0m\u001b[0;34m\"incident_date_created\"\u001b[0m\u001b[0;34m)\u001b[0m\u001b[0;34m.\u001b[0m\u001b[0miloc\u001b[0m\u001b[0;34m[\u001b[0m\u001b[0mi\u001b[0m\u001b[0;34m]\u001b[0m\u001b[0;34m.\u001b[0m\u001b[0mincident_dateonly_created\u001b[0m\u001b[0;34m)\u001b[0m\u001b[0;34m\u001b[0m\u001b[0;34m\u001b[0m\u001b[0m\n",
      "\u001b[0;32m~/.local/lib/python3.8/site-packages/pandas/core/indexing.py\u001b[0m in \u001b[0;36m__getitem__\u001b[0;34m(self, key)\u001b[0m\n\u001b[1;32m    929\u001b[0m \u001b[0;34m\u001b[0m\u001b[0m\n\u001b[1;32m    930\u001b[0m             \u001b[0mmaybe_callable\u001b[0m \u001b[0;34m=\u001b[0m \u001b[0mcom\u001b[0m\u001b[0;34m.\u001b[0m\u001b[0mapply_if_callable\u001b[0m\u001b[0;34m(\u001b[0m\u001b[0mkey\u001b[0m\u001b[0;34m,\u001b[0m \u001b[0mself\u001b[0m\u001b[0;34m.\u001b[0m\u001b[0mobj\u001b[0m\u001b[0;34m)\u001b[0m\u001b[0;34m\u001b[0m\u001b[0;34m\u001b[0m\u001b[0m\n\u001b[0;32m--> 931\u001b[0;31m             \u001b[0;32mreturn\u001b[0m \u001b[0mself\u001b[0m\u001b[0;34m.\u001b[0m\u001b[0m_getitem_axis\u001b[0m\u001b[0;34m(\u001b[0m\u001b[0mmaybe_callable\u001b[0m\u001b[0;34m,\u001b[0m \u001b[0maxis\u001b[0m\u001b[0;34m=\u001b[0m\u001b[0maxis\u001b[0m\u001b[0;34m)\u001b[0m\u001b[0;34m\u001b[0m\u001b[0;34m\u001b[0m\u001b[0m\n\u001b[0m\u001b[1;32m    932\u001b[0m \u001b[0;34m\u001b[0m\u001b[0m\n\u001b[1;32m    933\u001b[0m     \u001b[0;32mdef\u001b[0m \u001b[0m_is_scalar_access\u001b[0m\u001b[0;34m(\u001b[0m\u001b[0mself\u001b[0m\u001b[0;34m,\u001b[0m \u001b[0mkey\u001b[0m\u001b[0;34m:\u001b[0m \u001b[0mtuple\u001b[0m\u001b[0;34m)\u001b[0m\u001b[0;34m:\u001b[0m\u001b[0;34m\u001b[0m\u001b[0;34m\u001b[0m\u001b[0m\n",
      "\u001b[0;32m~/.local/lib/python3.8/site-packages/pandas/core/indexing.py\u001b[0m in \u001b[0;36m_getitem_axis\u001b[0;34m(self, key, axis)\u001b[0m\n\u001b[1;32m   1564\u001b[0m \u001b[0;34m\u001b[0m\u001b[0m\n\u001b[1;32m   1565\u001b[0m             \u001b[0;31m# validate the location\u001b[0m\u001b[0;34m\u001b[0m\u001b[0;34m\u001b[0m\u001b[0;34m\u001b[0m\u001b[0m\n\u001b[0;32m-> 1566\u001b[0;31m             \u001b[0mself\u001b[0m\u001b[0;34m.\u001b[0m\u001b[0m_validate_integer\u001b[0m\u001b[0;34m(\u001b[0m\u001b[0mkey\u001b[0m\u001b[0;34m,\u001b[0m \u001b[0maxis\u001b[0m\u001b[0;34m)\u001b[0m\u001b[0;34m\u001b[0m\u001b[0;34m\u001b[0m\u001b[0m\n\u001b[0m\u001b[1;32m   1567\u001b[0m \u001b[0;34m\u001b[0m\u001b[0m\n\u001b[1;32m   1568\u001b[0m             \u001b[0;32mreturn\u001b[0m \u001b[0mself\u001b[0m\u001b[0;34m.\u001b[0m\u001b[0mobj\u001b[0m\u001b[0;34m.\u001b[0m\u001b[0m_ixs\u001b[0m\u001b[0;34m(\u001b[0m\u001b[0mkey\u001b[0m\u001b[0;34m,\u001b[0m \u001b[0maxis\u001b[0m\u001b[0;34m=\u001b[0m\u001b[0maxis\u001b[0m\u001b[0;34m)\u001b[0m\u001b[0;34m\u001b[0m\u001b[0;34m\u001b[0m\u001b[0m\n",
      "\u001b[0;32m~/.local/lib/python3.8/site-packages/pandas/core/indexing.py\u001b[0m in \u001b[0;36m_validate_integer\u001b[0;34m(self, key, axis)\u001b[0m\n\u001b[1;32m   1498\u001b[0m         \u001b[0mlen_axis\u001b[0m \u001b[0;34m=\u001b[0m \u001b[0mlen\u001b[0m\u001b[0;34m(\u001b[0m\u001b[0mself\u001b[0m\u001b[0;34m.\u001b[0m\u001b[0mobj\u001b[0m\u001b[0;34m.\u001b[0m\u001b[0m_get_axis\u001b[0m\u001b[0;34m(\u001b[0m\u001b[0maxis\u001b[0m\u001b[0;34m)\u001b[0m\u001b[0;34m)\u001b[0m\u001b[0;34m\u001b[0m\u001b[0;34m\u001b[0m\u001b[0m\n\u001b[1;32m   1499\u001b[0m         \u001b[0;32mif\u001b[0m \u001b[0mkey\u001b[0m \u001b[0;34m>=\u001b[0m \u001b[0mlen_axis\u001b[0m \u001b[0;32mor\u001b[0m \u001b[0mkey\u001b[0m \u001b[0;34m<\u001b[0m \u001b[0;34m-\u001b[0m\u001b[0mlen_axis\u001b[0m\u001b[0;34m:\u001b[0m\u001b[0;34m\u001b[0m\u001b[0;34m\u001b[0m\u001b[0m\n\u001b[0;32m-> 1500\u001b[0;31m             \u001b[0;32mraise\u001b[0m \u001b[0mIndexError\u001b[0m\u001b[0;34m(\u001b[0m\u001b[0;34m\"single positional indexer is out-of-bounds\"\u001b[0m\u001b[0;34m)\u001b[0m\u001b[0;34m\u001b[0m\u001b[0;34m\u001b[0m\u001b[0m\n\u001b[0m\u001b[1;32m   1501\u001b[0m \u001b[0;34m\u001b[0m\u001b[0m\n\u001b[1;32m   1502\u001b[0m     \u001b[0;31m# -------------------------------------------------------------------\u001b[0m\u001b[0;34m\u001b[0m\u001b[0;34m\u001b[0m\u001b[0;34m\u001b[0m\u001b[0m\n",
      "\u001b[0;31mIndexError\u001b[0m: single positional indexer is out-of-bounds"
     ]
    }
   ],
   "metadata": {}
  },
  {
   "cell_type": "code",
   "execution_count": 27,
   "source": [
    "plt.plot(dates, average_fire)\n",
    "\n",
    "plt.xlabel(\"Year\")\n",
    "plt.ylabel(\"Average Acres Burned\")\n",
    "\n",
    "\n",
    "plt.show()\n",
    "#This a plot of the average fire size over the years which could mean that date is an important factor to fire size"
   ],
   "outputs": [
    {
     "output_type": "display_data",
     "data": {
      "image/png": "[encoded data removed]",
      "text/plain": [
       "<Figure size 432x288 with 1 Axes>"
      ]
     },
     "metadata": {
      "needs_background": "light"
     }
    }
   ],
   "metadata": {}
  }
 ],
 "metadata": {
  "interpreter": {
   "hash": "916dbcbb3f70747c44a77c7bcd40155683ae19c65e1c03b4aa3499c5328201f1"
  },
  "kernelspec": {
   "name": "python3",
   "display_name": "Python 3.8.10 64-bit"
  },
  "language_info": {
   "codemirror_mode": {
    "name": "ipython",
    "version": 3
   },
   "file_extension": ".py",
   "mimetype": "text/x-python",
   "name": "python",
   "nbconvert_exporter": "python",
   "pygments_lexer": "ipython3",
   "version": "3.8.10"
  }
 },
 "nbformat": 4,
 "nbformat_minor": 4
}