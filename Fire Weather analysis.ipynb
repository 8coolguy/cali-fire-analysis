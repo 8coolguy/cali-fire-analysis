{
 "cells": [
  {
   "cell_type": "code",
   "execution_count": 2,
   "metadata": {},
   "outputs": [],
   "source": [
    "import pandas as pd\n",
    "import numpy as np\n",
    "import matplotlib.pyplot as plt"
   ]
  },
  {
   "cell_type": "markdown",
   "metadata": {},
   "source": [
    "## **Cleaning up the data**  "
   ]
  },
  {
   "cell_type": "code",
   "execution_count": 3,
   "metadata": {},
   "outputs": [],
   "source": [
    "def outputCheck(df):\n",
    "    if(df.columns.size >0):\n",
    "        print(\"■■■■■ Pass■■■■■\")           \n",
    "    else:\n",
    "        print(\"Error the dataframe is empty or null\")"
   ]
  },
  {
   "cell_type": "code",
   "execution_count": 4,
   "metadata": {
    "scrolled": true
   },
   "outputs": [
    {
     "name": "stdout",
     "output_type": "stream",
     "text": [
      "■■■■■ Pass■■■■■\n"
     ]
    }
   ],
   "source": [
    "df =pd.read_csv(\"new_fire_weather_data.csv\")\n",
    "\n",
    "outputCheck(df)"
   ]
  },
  {
   "cell_type": "code",
   "execution_count": 5,
   "metadata": {},
   "outputs": [],
   "source": [
    "#df.to_csv(\"fire_weather_data.csv\",index=False)\n",
    "nand=[]\n",
    "for i in range(len(df)-1,-1,-1):\n",
    "    for ele in df.iloc[i]:\n",
    "        if str(ele)== \"nan\":\n",
    "            df=df.drop(df.index[i])\n",
    "            break\n"
   ]
  },
  {
   "cell_type": "code",
   "execution_count": 6,
   "metadata": {},
   "outputs": [],
   "source": [
    "#dont need after first run\n",
    "df.to_csv(\"new_fire_weather_data\")"
   ]
  },
  {
   "cell_type": "code",
   "execution_count": 7,
   "metadata": {},
   "outputs": [],
   "source": [
    "from sklearn.model_selection import train_test_split\n",
    "from sklearn import linear_model\n",
    "from sklearn.metrics import mean_squared_error, r2_score"
   ]
  },
  {
   "cell_type": "markdown",
   "metadata": {},
   "source": [
    "## **Creating a linear model**"
   ]
  },
  {
   "cell_type": "code",
   "execution_count": 8,
   "metadata": {},
   "outputs": [
    {
     "name": "stdout",
     "output_type": "stream",
     "text": [
      "■■■■■ Pass■■■■■\n"
     ]
    },
    {
     "data": {
      "text/html": [
       "<div>\n",
       "<style scoped>\n",
       "    .dataframe tbody tr th:only-of-type {\n",
       "        vertical-align: middle;\n",
       "    }\n",
       "\n",
       "    .dataframe tbody tr th {\n",
       "        vertical-align: top;\n",
       "    }\n",
       "\n",
       "    .dataframe thead th {\n",
       "        text-align: right;\n",
       "    }\n",
       "</style>\n",
       "<table border=\"1\" class=\"dataframe\">\n",
       "  <thead>\n",
       "    <tr style=\"text-align: right;\">\n",
       "      <th></th>\n",
       "      <th>Unnamed: 0</th>\n",
       "      <th>incident_name</th>\n",
       "      <th>incident_date_created</th>\n",
       "      <th>incident_administrative_unit</th>\n",
       "      <th>incident_county</th>\n",
       "      <th>incident_location</th>\n",
       "      <th>incident_acres_burned</th>\n",
       "      <th>incident_cooperating_agencies</th>\n",
       "      <th>incident_longitude</th>\n",
       "      <th>incident_latitude</th>\n",
       "      <th>...</th>\n",
       "      <th>Max Temperature</th>\n",
       "      <th>Avg Temperature</th>\n",
       "      <th>Min Temperature</th>\n",
       "      <th>Dew Point</th>\n",
       "      <th>Precipitation</th>\n",
       "      <th>Snowdepth</th>\n",
       "      <th>Wind</th>\n",
       "      <th>Gust Wind</th>\n",
       "      <th>Sea Level Pressure</th>\n",
       "      <th>elevation</th>\n",
       "    </tr>\n",
       "  </thead>\n",
       "  <tbody>\n",
       "    <tr>\n",
       "      <th>2</th>\n",
       "      <td>4</td>\n",
       "      <td>Gold Fire</td>\n",
       "      <td>2013-04-30 12:59:00</td>\n",
       "      <td>CAL FIRE Madera-Mariposa-Merced Unit</td>\n",
       "      <td>Madera</td>\n",
       "      <td>Between Road 210 and Road 200 near Fine Gold C...</td>\n",
       "      <td>274</td>\n",
       "      <td>CAL FIRE Madera-Mariposa-Merced Unit</td>\n",
       "      <td>-119.635004</td>\n",
       "      <td>37.116295</td>\n",
       "      <td>...</td>\n",
       "      <td>92.00</td>\n",
       "      <td>77.98</td>\n",
       "      <td>63.29</td>\n",
       "      <td>40.10</td>\n",
       "      <td>0.00</td>\n",
       "      <td>0.0</td>\n",
       "      <td>6.08</td>\n",
       "      <td>0.60</td>\n",
       "      <td>29.51</td>\n",
       "      <td>484.616089</td>\n",
       "    </tr>\n",
       "    <tr>\n",
       "      <th>4</th>\n",
       "      <td>7</td>\n",
       "      <td>Yellow Fire</td>\n",
       "      <td>2013-05-01 02:01:00</td>\n",
       "      <td>CAL FIRE Sonoma-Lake-Napa Unit</td>\n",
       "      <td>Sonoma</td>\n",
       "      <td>Hwy 128 &amp; Yellow Jacket Ranch Rd in Knights Va...</td>\n",
       "      <td>125</td>\n",
       "      <td>CAL FIRE Sonoma-Lake-Napa Unit</td>\n",
       "      <td>-122.655616</td>\n",
       "      <td>38.638828</td>\n",
       "      <td>...</td>\n",
       "      <td>88.71</td>\n",
       "      <td>65.77</td>\n",
       "      <td>47.00</td>\n",
       "      <td>39.54</td>\n",
       "      <td>0.00</td>\n",
       "      <td>0.0</td>\n",
       "      <td>5.01</td>\n",
       "      <td>2.21</td>\n",
       "      <td>29.72</td>\n",
       "      <td>255.670990</td>\n",
       "    </tr>\n",
       "    <tr>\n",
       "      <th>5</th>\n",
       "      <td>8</td>\n",
       "      <td>Summit Fire</td>\n",
       "      <td>2013-05-01 12:38:00</td>\n",
       "      <td>CAL FIRE/Riverside County Fire</td>\n",
       "      <td>Riverside</td>\n",
       "      <td>Mias Canyon and Bluff Road in Banning</td>\n",
       "      <td>3166</td>\n",
       "      <td>CAL FIRE/Riverside County Fire</td>\n",
       "      <td>-116.941311</td>\n",
       "      <td>34.288877</td>\n",
       "      <td>...</td>\n",
       "      <td>87.14</td>\n",
       "      <td>75.65</td>\n",
       "      <td>55.29</td>\n",
       "      <td>35.28</td>\n",
       "      <td>0.00</td>\n",
       "      <td>0.0</td>\n",
       "      <td>5.59</td>\n",
       "      <td>1.54</td>\n",
       "      <td>28.67</td>\n",
       "      <td>2411.368408</td>\n",
       "    </tr>\n",
       "    <tr>\n",
       "      <th>6</th>\n",
       "      <td>9</td>\n",
       "      <td>Tres Pinos Fire</td>\n",
       "      <td>2013-05-03 11:42:00</td>\n",
       "      <td>CAL FIRE San Benito-Monterey</td>\n",
       "      <td>San Benito</td>\n",
       "      <td>Highway 25 and Horizon Rd, Community of Tres</td>\n",
       "      <td>354</td>\n",
       "      <td>CAL FIRE San Benito-Monterey</td>\n",
       "      <td>-120.937494</td>\n",
       "      <td>37.160346</td>\n",
       "      <td>...</td>\n",
       "      <td>85.14</td>\n",
       "      <td>69.29</td>\n",
       "      <td>55.71</td>\n",
       "      <td>41.68</td>\n",
       "      <td>0.00</td>\n",
       "      <td>0.0</td>\n",
       "      <td>6.71</td>\n",
       "      <td>1.42</td>\n",
       "      <td>29.84</td>\n",
       "      <td>24.833916</td>\n",
       "    </tr>\n",
       "    <tr>\n",
       "      <th>7</th>\n",
       "      <td>10</td>\n",
       "      <td>306 Fire</td>\n",
       "      <td>2013-05-01 19:00:00</td>\n",
       "      <td>CAL FIRE Tehama-Glenn Unit</td>\n",
       "      <td>Glenn</td>\n",
       "      <td>2 miles south of the community of Elk Creek</td>\n",
       "      <td>217</td>\n",
       "      <td>CAL FIRE Tehama-Glenn Unit</td>\n",
       "      <td>-122.560862</td>\n",
       "      <td>39.514139</td>\n",
       "      <td>...</td>\n",
       "      <td>87.00</td>\n",
       "      <td>73.86</td>\n",
       "      <td>60.86</td>\n",
       "      <td>27.52</td>\n",
       "      <td>0.00</td>\n",
       "      <td>0.0</td>\n",
       "      <td>11.47</td>\n",
       "      <td>9.79</td>\n",
       "      <td>29.41</td>\n",
       "      <td>526.162109</td>\n",
       "    </tr>\n",
       "    <tr>\n",
       "      <th>...</th>\n",
       "      <td>...</td>\n",
       "      <td>...</td>\n",
       "      <td>...</td>\n",
       "      <td>...</td>\n",
       "      <td>...</td>\n",
       "      <td>...</td>\n",
       "      <td>...</td>\n",
       "      <td>...</td>\n",
       "      <td>...</td>\n",
       "      <td>...</td>\n",
       "      <td>...</td>\n",
       "      <td>...</td>\n",
       "      <td>...</td>\n",
       "      <td>...</td>\n",
       "      <td>...</td>\n",
       "      <td>...</td>\n",
       "      <td>...</td>\n",
       "      <td>...</td>\n",
       "      <td>...</td>\n",
       "      <td>...</td>\n",
       "      <td>...</td>\n",
       "    </tr>\n",
       "    <tr>\n",
       "      <th>1259</th>\n",
       "      <td>1646</td>\n",
       "      <td>Creek Fire</td>\n",
       "      <td>2020-08-18 17:58:52</td>\n",
       "      <td>CAL FIRE Mendocino Unit</td>\n",
       "      <td>Mendocino</td>\n",
       "      <td>Covelo, Highway 162 and Short Creek Rd</td>\n",
       "      <td>820</td>\n",
       "      <td>Cooperating Agencies: California Department of...</td>\n",
       "      <td>-123.211101</td>\n",
       "      <td>39.817437</td>\n",
       "      <td>...</td>\n",
       "      <td>98.14</td>\n",
       "      <td>83.60</td>\n",
       "      <td>59.29</td>\n",
       "      <td>51.48</td>\n",
       "      <td>0.01</td>\n",
       "      <td>0.0</td>\n",
       "      <td>4.58</td>\n",
       "      <td>0.00</td>\n",
       "      <td>29.11</td>\n",
       "      <td>418.601074</td>\n",
       "    </tr>\n",
       "    <tr>\n",
       "      <th>1260</th>\n",
       "      <td>1648</td>\n",
       "      <td>Moc Fire</td>\n",
       "      <td>2020-08-20 14:26:08</td>\n",
       "      <td>CAL FIRE Tuolumne-Calaveras Unit and Central C...</td>\n",
       "      <td>Tuolumne</td>\n",
       "      <td>Hwy 49 and Hwy 120, Moccasin</td>\n",
       "      <td>2857</td>\n",
       "      <td>CAL FIRE Tuolumne-Calaveras Unit</td>\n",
       "      <td>-120.312565</td>\n",
       "      <td>37.813779</td>\n",
       "      <td>...</td>\n",
       "      <td>102.57</td>\n",
       "      <td>87.41</td>\n",
       "      <td>73.14</td>\n",
       "      <td>55.08</td>\n",
       "      <td>0.00</td>\n",
       "      <td>0.0</td>\n",
       "      <td>8.25</td>\n",
       "      <td>1.08</td>\n",
       "      <td>29.80</td>\n",
       "      <td>293.668060</td>\n",
       "    </tr>\n",
       "    <tr>\n",
       "      <th>1261</th>\n",
       "      <td>1651</td>\n",
       "      <td>Sheep Fire</td>\n",
       "      <td>2020-08-22 22:02:57</td>\n",
       "      <td>Unified Command: Plumas National Forest, Lasse...</td>\n",
       "      <td>Plumas</td>\n",
       "      <td>Gold Run Road, Southwest of Susanville in Plum...</td>\n",
       "      <td>29570</td>\n",
       "      <td>Plumas National Forest</td>\n",
       "      <td>-120.757000</td>\n",
       "      <td>40.274000</td>\n",
       "      <td>...</td>\n",
       "      <td>98.14</td>\n",
       "      <td>83.60</td>\n",
       "      <td>59.29</td>\n",
       "      <td>51.48</td>\n",
       "      <td>0.01</td>\n",
       "      <td>0.0</td>\n",
       "      <td>4.58</td>\n",
       "      <td>0.00</td>\n",
       "      <td>29.11</td>\n",
       "      <td>1614.909912</td>\n",
       "    </tr>\n",
       "    <tr>\n",
       "      <th>1263</th>\n",
       "      <td>1659</td>\n",
       "      <td>Oak Fire</td>\n",
       "      <td>2020-09-07 13:26:45</td>\n",
       "      <td>CAL FIRE MEU Mendocino Unit</td>\n",
       "      <td>Mendocino</td>\n",
       "      <td>West of Highway 101--Big John Road &amp; Skyview R...</td>\n",
       "      <td>1100</td>\n",
       "      <td>CAL FIRE Mendocino Unit , Cooperating Agencies...</td>\n",
       "      <td>-123.396500</td>\n",
       "      <td>39.493500</td>\n",
       "      <td>...</td>\n",
       "      <td>87.29</td>\n",
       "      <td>67.07</td>\n",
       "      <td>55.14</td>\n",
       "      <td>51.73</td>\n",
       "      <td>0.00</td>\n",
       "      <td>0.0</td>\n",
       "      <td>2.73</td>\n",
       "      <td>0.51</td>\n",
       "      <td>29.72</td>\n",
       "      <td>588.767822</td>\n",
       "    </tr>\n",
       "    <tr>\n",
       "      <th>1264</th>\n",
       "      <td>1660</td>\n",
       "      <td>Willow Fire</td>\n",
       "      <td>2020-09-09 06:04:43</td>\n",
       "      <td>CAL FIRE Nevada-Yuba-Placer Unit</td>\n",
       "      <td>Yuba</td>\n",
       "      <td>Neptune Lane and Willow Glen Road, North of Sm...</td>\n",
       "      <td>1311</td>\n",
       "      <td>Cooperating Agencies: CHP, LINDA FIRE, BEALE A...</td>\n",
       "      <td>-121.323610</td>\n",
       "      <td>39.363700</td>\n",
       "      <td>...</td>\n",
       "      <td>90.86</td>\n",
       "      <td>76.00</td>\n",
       "      <td>63.71</td>\n",
       "      <td>53.65</td>\n",
       "      <td>0.00</td>\n",
       "      <td>0.0</td>\n",
       "      <td>5.98</td>\n",
       "      <td>2.70</td>\n",
       "      <td>29.80</td>\n",
       "      <td>402.864044</td>\n",
       "    </tr>\n",
       "  </tbody>\n",
       "</table>\n",
       "<p>614 rows × 23 columns</p>\n",
       "</div>"
      ],
      "text/plain": [
       "      Unnamed: 0    incident_name incident_date_created  \\\n",
       "2              4        Gold Fire   2013-04-30 12:59:00   \n",
       "4              7      Yellow Fire   2013-05-01 02:01:00   \n",
       "5              8      Summit Fire   2013-05-01 12:38:00   \n",
       "6              9  Tres Pinos Fire   2013-05-03 11:42:00   \n",
       "7             10         306 Fire   2013-05-01 19:00:00   \n",
       "...          ...              ...                   ...   \n",
       "1259        1646       Creek Fire   2020-08-18 17:58:52   \n",
       "1260        1648         Moc Fire   2020-08-20 14:26:08   \n",
       "1261        1651      Sheep Fire    2020-08-22 22:02:57   \n",
       "1263        1659         Oak Fire   2020-09-07 13:26:45   \n",
       "1264        1660      Willow Fire   2020-09-09 06:04:43   \n",
       "\n",
       "                           incident_administrative_unit incident_county  \\\n",
       "2                  CAL FIRE Madera-Mariposa-Merced Unit          Madera   \n",
       "4                        CAL FIRE Sonoma-Lake-Napa Unit          Sonoma   \n",
       "5                       CAL FIRE/Riverside County Fire        Riverside   \n",
       "6                         CAL FIRE San Benito-Monterey       San Benito   \n",
       "7                            CAL FIRE Tehama-Glenn Unit           Glenn   \n",
       "...                                                 ...             ...   \n",
       "1259                            CAL FIRE Mendocino Unit       Mendocino   \n",
       "1260  CAL FIRE Tuolumne-Calaveras Unit and Central C...        Tuolumne   \n",
       "1261  Unified Command: Plumas National Forest, Lasse...          Plumas   \n",
       "1263                        CAL FIRE MEU Mendocino Unit       Mendocino   \n",
       "1264                  CAL FIRE Nevada-Yuba-Placer Unit             Yuba   \n",
       "\n",
       "                                      incident_location  \\\n",
       "2     Between Road 210 and Road 200 near Fine Gold C...   \n",
       "4     Hwy 128 & Yellow Jacket Ranch Rd in Knights Va...   \n",
       "5                 Mias Canyon and Bluff Road in Banning   \n",
       "6         Highway 25 and Horizon Rd, Community of Tres    \n",
       "7           2 miles south of the community of Elk Creek   \n",
       "...                                                 ...   \n",
       "1259             Covelo, Highway 162 and Short Creek Rd   \n",
       "1260                       Hwy 49 and Hwy 120, Moccasin   \n",
       "1261  Gold Run Road, Southwest of Susanville in Plum...   \n",
       "1263  West of Highway 101--Big John Road & Skyview R...   \n",
       "1264  Neptune Lane and Willow Glen Road, North of Sm...   \n",
       "\n",
       "      incident_acres_burned  \\\n",
       "2                       274   \n",
       "4                       125   \n",
       "5                      3166   \n",
       "6                       354   \n",
       "7                       217   \n",
       "...                     ...   \n",
       "1259                    820   \n",
       "1260                   2857   \n",
       "1261                  29570   \n",
       "1263                   1100   \n",
       "1264                   1311   \n",
       "\n",
       "                          incident_cooperating_agencies  incident_longitude  \\\n",
       "2                  CAL FIRE Madera-Mariposa-Merced Unit         -119.635004   \n",
       "4                        CAL FIRE Sonoma-Lake-Napa Unit         -122.655616   \n",
       "5                       CAL FIRE/Riverside County Fire          -116.941311   \n",
       "6                         CAL FIRE San Benito-Monterey          -120.937494   \n",
       "7                            CAL FIRE Tehama-Glenn Unit         -122.560862   \n",
       "...                                                 ...                 ...   \n",
       "1259  Cooperating Agencies: California Department of...         -123.211101   \n",
       "1260                   CAL FIRE Tuolumne-Calaveras Unit         -120.312565   \n",
       "1261                             Plumas National Forest         -120.757000   \n",
       "1263  CAL FIRE Mendocino Unit , Cooperating Agencies...         -123.396500   \n",
       "1264  Cooperating Agencies: CHP, LINDA FIRE, BEALE A...         -121.323610   \n",
       "\n",
       "      incident_latitude  ... Max Temperature Avg Temperature Min Temperature  \\\n",
       "2             37.116295  ...           92.00           77.98           63.29   \n",
       "4             38.638828  ...           88.71           65.77           47.00   \n",
       "5             34.288877  ...           87.14           75.65           55.29   \n",
       "6             37.160346  ...           85.14           69.29           55.71   \n",
       "7             39.514139  ...           87.00           73.86           60.86   \n",
       "...                 ...  ...             ...             ...             ...   \n",
       "1259          39.817437  ...           98.14           83.60           59.29   \n",
       "1260          37.813779  ...          102.57           87.41           73.14   \n",
       "1261          40.274000  ...           98.14           83.60           59.29   \n",
       "1263          39.493500  ...           87.29           67.07           55.14   \n",
       "1264          39.363700  ...           90.86           76.00           63.71   \n",
       "\n",
       "      Dew Point  Precipitation  Snowdepth   Wind  Gust Wind  \\\n",
       "2         40.10           0.00        0.0   6.08       0.60   \n",
       "4         39.54           0.00        0.0   5.01       2.21   \n",
       "5         35.28           0.00        0.0   5.59       1.54   \n",
       "6         41.68           0.00        0.0   6.71       1.42   \n",
       "7         27.52           0.00        0.0  11.47       9.79   \n",
       "...         ...            ...        ...    ...        ...   \n",
       "1259      51.48           0.01        0.0   4.58       0.00   \n",
       "1260      55.08           0.00        0.0   8.25       1.08   \n",
       "1261      51.48           0.01        0.0   4.58       0.00   \n",
       "1263      51.73           0.00        0.0   2.73       0.51   \n",
       "1264      53.65           0.00        0.0   5.98       2.70   \n",
       "\n",
       "      Sea Level Pressure    elevation  \n",
       "2                  29.51   484.616089  \n",
       "4                  29.72   255.670990  \n",
       "5                  28.67  2411.368408  \n",
       "6                  29.84    24.833916  \n",
       "7                  29.41   526.162109  \n",
       "...                  ...          ...  \n",
       "1259               29.11   418.601074  \n",
       "1260               29.80   293.668060  \n",
       "1261               29.11  1614.909912  \n",
       "1263               29.72   588.767822  \n",
       "1264               29.80   402.864044  \n",
       "\n",
       "[614 rows x 23 columns]"
      ]
     },
     "execution_count": 8,
     "metadata": {},
     "output_type": "execute_result"
    }
   ],
   "source": [
    "outputCheck(df)\n",
    "df =df[df.incident_acres_burned>100]\n",
    "df =df[ df.incident_acres_burned <200000]\n",
    "df"
   ]
  },
  {
   "cell_type": "code",
   "execution_count": 9,
   "metadata": {},
   "outputs": [
    {
     "name": "stdout",
     "output_type": "stream",
     "text": [
      "■■■■■ Pass■■■■■\n",
      "■■■■■ Pass■■■■■\n"
     ]
    },
    {
     "data": {
      "text/html": [
       "<div>\n",
       "<style scoped>\n",
       "    .dataframe tbody tr th:only-of-type {\n",
       "        vertical-align: middle;\n",
       "    }\n",
       "\n",
       "    .dataframe tbody tr th {\n",
       "        vertical-align: top;\n",
       "    }\n",
       "\n",
       "    .dataframe thead th {\n",
       "        text-align: right;\n",
       "    }\n",
       "</style>\n",
       "<table border=\"1\" class=\"dataframe\">\n",
       "  <thead>\n",
       "    <tr style=\"text-align: right;\">\n",
       "      <th></th>\n",
       "      <th>Max Temperature</th>\n",
       "      <th>Avg Temperature</th>\n",
       "      <th>Min Temperature</th>\n",
       "      <th>Dew Point</th>\n",
       "      <th>Wind</th>\n",
       "      <th>Gust Wind</th>\n",
       "      <th>elevation</th>\n",
       "    </tr>\n",
       "  </thead>\n",
       "  <tbody>\n",
       "    <tr>\n",
       "      <th>120</th>\n",
       "      <td>63.43</td>\n",
       "      <td>53.14</td>\n",
       "      <td>43.29</td>\n",
       "      <td>34.82</td>\n",
       "      <td>5.47</td>\n",
       "      <td>4.89</td>\n",
       "      <td>501.834259</td>\n",
       "    </tr>\n",
       "    <tr>\n",
       "      <th>787</th>\n",
       "      <td>64.14</td>\n",
       "      <td>50.03</td>\n",
       "      <td>37.71</td>\n",
       "      <td>20.45</td>\n",
       "      <td>6.32</td>\n",
       "      <td>2.83</td>\n",
       "      <td>1927.409912</td>\n",
       "    </tr>\n",
       "    <tr>\n",
       "      <th>199</th>\n",
       "      <td>91.43</td>\n",
       "      <td>73.14</td>\n",
       "      <td>56.14</td>\n",
       "      <td>50.83</td>\n",
       "      <td>8.53</td>\n",
       "      <td>0.83</td>\n",
       "      <td>185.543777</td>\n",
       "    </tr>\n",
       "    <tr>\n",
       "      <th>190</th>\n",
       "      <td>81.43</td>\n",
       "      <td>66.88</td>\n",
       "      <td>55.29</td>\n",
       "      <td>34.81</td>\n",
       "      <td>6.71</td>\n",
       "      <td>3.73</td>\n",
       "      <td>145.514313</td>\n",
       "    </tr>\n",
       "    <tr>\n",
       "      <th>1252</th>\n",
       "      <td>99.43</td>\n",
       "      <td>81.20</td>\n",
       "      <td>65.00</td>\n",
       "      <td>55.04</td>\n",
       "      <td>7.76</td>\n",
       "      <td>0.22</td>\n",
       "      <td>43.234276</td>\n",
       "    </tr>\n",
       "    <tr>\n",
       "      <th>...</th>\n",
       "      <td>...</td>\n",
       "      <td>...</td>\n",
       "      <td>...</td>\n",
       "      <td>...</td>\n",
       "      <td>...</td>\n",
       "      <td>...</td>\n",
       "      <td>...</td>\n",
       "    </tr>\n",
       "    <tr>\n",
       "      <th>1217</th>\n",
       "      <td>90.57</td>\n",
       "      <td>78.26</td>\n",
       "      <td>64.71</td>\n",
       "      <td>44.16</td>\n",
       "      <td>6.41</td>\n",
       "      <td>1.19</td>\n",
       "      <td>495.161713</td>\n",
       "    </tr>\n",
       "    <tr>\n",
       "      <th>289</th>\n",
       "      <td>81.71</td>\n",
       "      <td>68.33</td>\n",
       "      <td>54.86</td>\n",
       "      <td>47.64</td>\n",
       "      <td>9.58</td>\n",
       "      <td>2.96</td>\n",
       "      <td>37.840279</td>\n",
       "    </tr>\n",
       "    <tr>\n",
       "      <th>1257</th>\n",
       "      <td>97.86</td>\n",
       "      <td>82.90</td>\n",
       "      <td>69.71</td>\n",
       "      <td>58.79</td>\n",
       "      <td>6.26</td>\n",
       "      <td>0.41</td>\n",
       "      <td>448.618225</td>\n",
       "    </tr>\n",
       "    <tr>\n",
       "      <th>1158</th>\n",
       "      <td>95.86</td>\n",
       "      <td>79.70</td>\n",
       "      <td>62.00</td>\n",
       "      <td>45.86</td>\n",
       "      <td>4.41</td>\n",
       "      <td>0.55</td>\n",
       "      <td>1143.959717</td>\n",
       "    </tr>\n",
       "    <tr>\n",
       "      <th>875</th>\n",
       "      <td>66.43</td>\n",
       "      <td>58.90</td>\n",
       "      <td>53.14</td>\n",
       "      <td>51.33</td>\n",
       "      <td>11.85</td>\n",
       "      <td>0.77</td>\n",
       "      <td>57.134514</td>\n",
       "    </tr>\n",
       "  </tbody>\n",
       "</table>\n",
       "<p>607 rows × 7 columns</p>\n",
       "</div>"
      ],
      "text/plain": [
       "      Max Temperature  Avg Temperature  Min Temperature  Dew Point   Wind  \\\n",
       "120             63.43            53.14            43.29      34.82   5.47   \n",
       "787             64.14            50.03            37.71      20.45   6.32   \n",
       "199             91.43            73.14            56.14      50.83   8.53   \n",
       "190             81.43            66.88            55.29      34.81   6.71   \n",
       "1252            99.43            81.20            65.00      55.04   7.76   \n",
       "...               ...              ...              ...        ...    ...   \n",
       "1217            90.57            78.26            64.71      44.16   6.41   \n",
       "289             81.71            68.33            54.86      47.64   9.58   \n",
       "1257            97.86            82.90            69.71      58.79   6.26   \n",
       "1158            95.86            79.70            62.00      45.86   4.41   \n",
       "875             66.43            58.90            53.14      51.33  11.85   \n",
       "\n",
       "      Gust Wind    elevation  \n",
       "120        4.89   501.834259  \n",
       "787        2.83  1927.409912  \n",
       "199        0.83   185.543777  \n",
       "190        3.73   145.514313  \n",
       "1252       0.22    43.234276  \n",
       "...         ...          ...  \n",
       "1217       1.19   495.161713  \n",
       "289        2.96    37.840279  \n",
       "1257       0.41   448.618225  \n",
       "1158       0.55  1143.959717  \n",
       "875        0.77    57.134514  \n",
       "\n",
       "[607 rows x 7 columns]"
      ]
     },
     "execution_count": 9,
     "metadata": {},
     "output_type": "execute_result"
    }
   ],
   "source": [
    "size=99\n",
    "state =45\n",
    "train_fire_x,test_fire_x,train_fire_target,test_fire_target=train_test_split(df.drop(columns=[\"Unnamed: 0\",\"incident_latitude\",\"incident_longitude\",\"incident_date_created\",'incident_acres_burned',\"incident_name\",\"incident_administrative_unit\",\"incident_county\",\"incident_location\",\"incident_cooperating_agencies\",\"incident_date_extinguished\",\"incident_dateonly_extinguished\",\"incident_dateonly_created\",\"Precipitation\",\"Snowdepth\",\"Sea Level Pressure\"]), df['incident_acres_burned'], test_size=1-size/100,random_state=state)\n",
    "outputCheck(train_fire_x)\n",
    "outputCheck(test_fire_x)\n",
    "train_fire_x\n"
   ]
  },
  {
   "cell_type": "code",
   "execution_count": 10,
   "metadata": {},
   "outputs": [],
   "source": [
    "regression_line =linear_model.LinearRegression()\n",
    "regression_line.fit(train_fire_x,train_fire_target)\n",
    "\n",
    "predictions =regression_line.predict(test_fire_x)"
   ]
  },
  {
   "cell_type": "code",
   "execution_count": 14,
   "metadata": {},
   "outputs": [
    {
     "name": "stdout",
     "output_type": "stream",
     "text": [
      "[300, 225, 163, 8838, 135, 217, 8073]\n",
      "[1379.29470127 3484.05114855 6628.22018274 6041.05567518 3672.04850887\n",
      " 5890.16243619 5049.32089024]\n"
     ]
    },
    {
     "ename": "AttributeError",
     "evalue": "'numpy.ndarray' object has no attribute 'coef_'",
     "output_type": "error",
     "traceback": [
      "\u001b[1;31m---------------------------------------------------------------------------\u001b[0m",
      "\u001b[1;31mAttributeError\u001b[0m                            Traceback (most recent call last)",
      "\u001b[1;32m<ipython-input-14-2bd777b02751>\u001b[0m in \u001b[0;36m<module>\u001b[1;34m\u001b[0m\n\u001b[0;32m      2\u001b[0m \u001b[0mprint\u001b[0m\u001b[1;33m(\u001b[0m\u001b[0mtft\u001b[0m\u001b[1;33m)\u001b[0m\u001b[1;33m\u001b[0m\u001b[1;33m\u001b[0m\u001b[0m\n\u001b[0;32m      3\u001b[0m \u001b[0mprint\u001b[0m\u001b[1;33m(\u001b[0m\u001b[0mpredictions\u001b[0m\u001b[1;33m)\u001b[0m\u001b[1;33m\u001b[0m\u001b[1;33m\u001b[0m\u001b[0m\n\u001b[1;32m----> 4\u001b[1;33m \u001b[0mpredictions\u001b[0m\u001b[1;33m.\u001b[0m\u001b[0mcoef_\u001b[0m\u001b[1;33m\u001b[0m\u001b[1;33m\u001b[0m\u001b[0m\n\u001b[0m\u001b[0;32m      5\u001b[0m \u001b[1;33m\u001b[0m\u001b[0m\n",
      "\u001b[1;31mAttributeError\u001b[0m: 'numpy.ndarray' object has no attribute 'coef_'"
     ]
    }
   ],
   "source": [
    "tft=[y for y in test_fire_target]\n",
    "print(tft)\n",
    "print(predictions)\n",
    "predictions.coef_\n",
    "\n"
   ]
  },
  {
   "cell_type": "code",
   "execution_count": 12,
   "metadata": {},
   "outputs": [
    {
     "name": "stdout",
     "output_type": "stream",
     "text": [
      "16463768.649823086\n",
      "-0.1822321301673242\n"
     ]
    }
   ],
   "source": [
    "print(mean_squared_error(tft,predictions))\n",
    "print(r2_score(tft,predictions))"
   ]
  },
  {
   "cell_type": "code",
   "execution_count": 13,
   "metadata": {},
   "outputs": [],
   "source": [
    "import matplotlib.pyplot as plt\n",
    "#i need to create comparisons between all the vars\n"
   ]
  },
  {
   "cell_type": "markdown",
   "metadata": {},
   "source": [
    "## **Comparing the variables and the Outputs**"
   ]
  },
  {
   "cell_type": "code",
   "execution_count": 214,
   "metadata": {},
   "outputs": [
    {
     "data": {
      "image/png": "[encoded data removed]",
      "text/plain": [
       "<Figure size 432x288 with 1 Axes>"
      ]
     },
     "metadata": {
      "needs_background": "light"
     },
     "output_type": "display_data"
    }
   ],
   "source": [
    "#most longitude and lats are very similar and not enough data to have accurate data for area in the specific coords\n",
    "arr=df.incident_longitude\n",
    "ans=df.incident_acres_burned\n",
    "#plotting it\n",
    "plt.scatter(arr,ans,color='Blue')\n",
    "#lables\n",
    "plt.xlabel(\"Longitude\")\n",
    "plt.ylabel(\"Acres Burned\")\n",
    "\n",
    "\n",
    "plt.show()"
   ]
  },
  {
   "cell_type": "code",
   "execution_count": 215,
   "metadata": {},
   "outputs": [
    {
     "data": {
      "image/png": "[encoded data removed]",
      "text/plain": [
       "<Figure size 432x288 with 1 Axes>"
      ]
     },
     "metadata": {
      "needs_background": "light"
     },
     "output_type": "display_data"
    }
   ],
   "source": [
    "arr=df.incident_latitude\n",
    "ans=df.incident_acres_burned\n",
    "#plotting it\n",
    "plt.scatter(arr,ans,color='Blue')\n",
    "#lables\n",
    "plt.xlabel(\"Latitude\")\n",
    "plt.ylabel(\"Acres Burned\")\n",
    "\n",
    "\n",
    "plt.show()"
   ]
  },
  {
   "cell_type": "code",
   "execution_count": 216,
   "metadata": {},
   "outputs": [
    {
     "data": {
      "image/png": "[encoded data removed]",
      "text/plain": [
       "<Figure size 432x288 with 1 Axes>"
      ]
     },
     "metadata": {
      "needs_background": "light"
     },
     "output_type": "display_data"
    }
   ],
   "source": [
    "arr=df[\"Sea Level Pressure\"]\n",
    "ans=df.incident_acres_burned\n",
    "#plotting it\n",
    "plt.scatter(arr,ans,color='Blue')\n",
    "#lables\n",
    "plt.xlabel(\"sea-level-pressure\")\n",
    "plt.ylabel(\"Acres Burned\")\n",
    "\n",
    "\n",
    "plt.show()"
   ]
  },
  {
   "cell_type": "code",
   "execution_count": 217,
   "metadata": {},
   "outputs": [
    {
     "data": {
      "image/png": "[encoded data removed]",
      "text/plain": [
       "<Figure size 432x288 with 1 Axes>"
      ]
     },
     "metadata": {
      "needs_background": "light"
     },
     "output_type": "display_data"
    }
   ],
   "source": [
    "arr=df[\"Wind\"]\n",
    "ans=df.incident_acres_burned\n",
    "#plotting it\n",
    "plt.scatter(arr,ans,color='Blue')\n",
    "#lables\n",
    "plt.xlabel(\"Wind\")\n",
    "plt.ylabel(\"Acres Burned\")\n",
    "\n",
    "\n",
    "plt.show()"
   ]
  },
  {
   "cell_type": "code",
   "execution_count": 218,
   "metadata": {},
   "outputs": [
    {
     "data": {
      "image/png": "[encoded data removed]",
      "text/plain": [
       "<Figure size 432x288 with 1 Axes>"
      ]
     },
     "metadata": {
      "needs_background": "light"
     },
     "output_type": "display_data"
    }
   ],
   "source": [
    "arr=df[\"Avg Temperature\"]\n",
    "ans=df.incident_acres_burned\n",
    "#plotting it\n",
    "plt.scatter(arr,ans,color='Blue')\n",
    "#lables\n",
    "plt.xlabel(\"Avg Temperature\")\n",
    "plt.ylabel(\"Acres Burned\")\n",
    "\n",
    "\n",
    "plt.show()"
   ]
  },
  {
   "cell_type": "code",
   "execution_count": 219,
   "metadata": {},
   "outputs": [
    {
     "data": {
      "image/png": "[encoded data removed]",
      "text/plain": [
       "<Figure size 432x288 with 1 Axes>"
      ]
     },
     "metadata": {
      "needs_background": "light"
     },
     "output_type": "display_data"
    }
   ],
   "source": [
    "arr=df.elevation\n",
    "ans=df.incident_acres_burned\n",
    "#plotting it\n",
    "plt.scatter(arr,ans,color='Blue')\n",
    "#lables\n",
    "plt.xlabel(\"Elevation\")\n",
    "plt.ylabel(\"Acres Burned\")\n",
    "\n",
    "\n",
    "plt.show()\n",
    "#fires usually do not grow to large sizes at higher elevations\n",
    "#most fires occured below 1500 meters\n",
    "#more info on how topography and altitude and day cycle affect fires is below\n",
    "# https://www.fs.fed.us/rm/pubs_exp_for/priest_river/exp_for_priest_river_1942_hayes02.pdf\n"
   ]
  },
  {
   "cell_type": "code",
   "execution_count": 220,
   "metadata": {},
   "outputs": [
    {
     "data": {
      "image/png": "[encoded data removed]",
      "text/plain": [
       "<Figure size 432x288 with 1 Axes>"
      ]
     },
     "metadata": {
      "needs_background": "light"
     },
     "output_type": "display_data"
    }
   ],
   "source": [
    "arr=df[\"Dew Point\"]\n",
    "ans=df.incident_acres_burned\n",
    "#plotting it\n",
    "plt.scatter(arr,ans,color='Blue')\n",
    "#lables\n",
    "plt.xlabel(\"Dew Point\")\n",
    "plt.ylabel(\"Acres Burned\")\n",
    "\n",
    "\n",
    "plt.show()\n",
    "#Dew Point is the atmospheric pressure that it takes for water drops to condense and form\n",
    "#dew point has an effect on the rate of fires because lowers can cause lower moistures in\n",
    "#fuels at the bottom of a forrest\n",
    "# https://www.dfes.wa.gov.au/waemergencyandriskmanagement/obrm/Documents/Relative-Humidity-and-Dew-Point-Information-Sheet.pdf\n",
    "#this does not exactly agree with my results it seems that between 60-30 most fires occur\n",
    "#the temperature also must be affected by air temperature and below 30ish its too cold for fires"
   ]
  },
  {
   "cell_type": "code",
   "execution_count": 221,
   "metadata": {},
   "outputs": [
    {
     "data": {
      "image/png": "[encoded data removed]",
      "text/plain": [
       "<Figure size 432x288 with 1 Axes>"
      ]
     },
     "metadata": {
      "needs_background": "light"
     },
     "output_type": "display_data"
    }
   ],
   "source": [
    "arr=df[\"Gust Wind\"]\n",
    "ans=df.incident_acres_burned\n",
    "#plotting it\n",
    "plt.scatter(arr,ans,color='Blue')\n",
    "#lables\n",
    "plt.xlabel(\"Gust Wind\")\n",
    "plt.ylabel(\"Acres Burned\")\n",
    "\n",
    "\n",
    "plt.show()\n",
    "#there is a consistent outlier of the thomas fire which occured in the winter time, but \n",
    "#gree to be one of the largest fires in  cali becasue of other codnitions\n",
    "#this fire has low dew point  and high winds\n",
    "# more info can be found below on the wiki  \n",
    "#  https://en.wikipedia.org/wiki/Thomas_Fire"
   ]
  },
  {
   "cell_type": "code",
   "execution_count": 154,
   "metadata": {},
   "outputs": [
    {
     "name": "stdout",
     "output_type": "stream",
     "text": [
      "29118\n"
     ]
    },
    {
     "name": "stderr",
     "output_type": "stream",
     "text": [
      "<ipython-input-154-787972b1c934>:11: RuntimeWarning: divide by zero encountered in longlong_scalars\n",
      "  average_fire.append(totalAcres/i)\n"
     ]
    }
   ],
   "source": [
    "#graph of average fire size\n",
    "totalAcres=0\n",
    "average_fire=[]\n",
    "dates=[]\n",
    "print(df.sort_values(by=\"incident_date_created\").size)\n",
    "for i in range(df.sort_values(by=\"incident_date_created\").size):\n",
    "    if(i ==1265):\n",
    "        break\n",
    "\n",
    "    totalAcres+=df.sort_values(by=\"incident_date_created\").iloc[i].incident_acres_burned\n",
    "    average_fire.append(totalAcres/i)\n",
    "    dates.append(df.sort_values(by=\"incident_date_created\").iloc[i].incident_dateonly_created)\n",
    "average_fire[0].pop()\n",
    "dates[0].pop()\n"
   ]
  },
  {
   "cell_type": "code",
   "execution_count": 222,
   "metadata": {},
   "outputs": [
    {
     "data": {
      "image/png": "[encoded data removed]",
      "text/plain": [
       "<Figure size 432x288 with 1 Axes>"
      ]
     },
     "metadata": {
      "needs_background": "light"
     },
     "output_type": "display_data"
    }
   ],
   "source": [
    "plt.plot(dates, average_fire)\n",
    "\n",
    "plt.xlabel(\"Year\")\n",
    "plt.ylabel(\"Average Acres Burned\")\n",
    "\n",
    "\n",
    "plt.show()\n",
    "#This a plot of the average fire size over the years which could mean that date is an important factor to fire size"
   ]
  }
 ],
 "metadata": {
  "interpreter": {
   "hash": "36b91857ce87dfe32ed6150b403c1ccfe25ad693e82a26a3489099fbd3570506"
  },
  "kernelspec": {
   "display_name": "Python 3",
   "language": "python",
   "name": "python3"
  },
  "language_info": {
   "codemirror_mode": {
    "name": "ipython",
    "version": 3
   },
   "file_extension": ".py",
   "mimetype": "text/x-python",
   "name": "python",
   "nbconvert_exporter": "python",
   "pygments_lexer": "ipython3",
   "version": "3.8.3"
  }
 },
 "nbformat": 4,
 "nbformat_minor": 4
}
